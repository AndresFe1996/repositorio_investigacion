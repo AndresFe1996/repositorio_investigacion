{
 "cells": [
  {
   "cell_type": "markdown",
   "id": "c030db2c",
   "metadata": {},
   "source": [
    "# Investigacion creditos otorgados por icetex\n",
    "\n",
    "## Base: Creditos Otorgados por ICETEX\n",
    "se realiza esta investigacion en pro de revisar como interactua el icetex con el usuario final en terminos de la financiacion de la educacion, mas especifico, se desea investigar cuales son esos segmentos de la poblacion civil los cuales reciben mas recursos de esta entidad.\n",
    "### descripcion de la base de datos:\n",
    "la base cuenta con 13 columnas y la data basica otorgada es de 145.000 filas:\n",
    "\n",
    "columnas de la tabla de datos: \n",
    "Nombre de la columna\n",
    "SEXO\n",
    "ESTRATO SOCIOECONÓMICO\n",
    "CÓDIGO DE DEPARTAMENTO DE ORIGEN\n",
    "DEPARTAMENTO DE ORIGEN\n",
    "CATEGORÍA DEL MUNICIPIO DE ORIGEN\n",
    "SECTOR IES\n",
    "NIVEL DE FORMACIÓN\n",
    "MODALIDAD DE LÍNEA\n",
    "MODALIDAD DEL CRÉDITO\n",
    "VIGENCIA\n",
    "PERIODO OTORGAMIENTO\n",
    "RANGO DEL VALOR TOTAL DESEMBOLSADO\n",
    "NÚMERO DE NUEVOS BENEFICIARIOS DE CRÉDITO\n",
    "\n",
    "### preguntas a responder:\n",
    "1. que estratos socieconomicos son los mas beneficiados por los recursos del icetex?\n",
    "2. que departamentos se listan con mas financiacion de parte de esta entidad?\n",
    "3. que niveles de educacion son los que financia el icetex? (tecnologo,tecnico,pregrado,posgrado etc)\n",
    "4. cuales son las modalidades de credito mas usadas\n",
    "5. cuales son los sexos que mas recursos del icetex recibe? existe alguna relacion entre sexo y beneficio?\n"
   ]
  },
  {
   "cell_type": "markdown",
   "id": "2656b24c",
   "metadata": {},
   "source": [
    "## Iniciamos con el proceso de limpieza de datos:"
   ]
  },
  {
   "cell_type": "code",
   "execution_count": 2,
   "id": "d1868d71",
   "metadata": {},
   "outputs": [],
   "source": [
    "import pandas as pd"
   ]
  },
  {
   "cell_type": "code",
   "execution_count": 3,
   "id": "498c9204",
   "metadata": {},
   "outputs": [],
   "source": [
    "data=pd.read_csv(\"C:/Users/Home/Repositorio_investigacion/Data/Cr_ditos_Otorgados_por_ICETEX.csv\")"
   ]
  },
  {
   "cell_type": "code",
   "execution_count": 4,
   "id": "b09c5ed3",
   "metadata": {},
   "outputs": [
    {
     "name": "stdout",
     "output_type": "stream",
     "text": [
      "<class 'pandas.core.frame.DataFrame'>\n",
      "RangeIndex: 144595 entries, 0 to 144594\n",
      "Data columns (total 13 columns):\n",
      " #   Column                                     Non-Null Count   Dtype \n",
      "---  ------                                     --------------   ----- \n",
      " 0   SEXO                                       144595 non-null  object\n",
      " 1   ESTRATO SOCIOECONÓMICO                     144595 non-null  int64 \n",
      " 2   CÓDIGO DE DEPARTAMENTO DE ORIGEN           144595 non-null  int64 \n",
      " 3   DEPARTAMENTO DE ORIGEN                     144595 non-null  object\n",
      " 4   CATEGORÍA DEL MUNICIPIO DE ORIGEN          144595 non-null  object\n",
      " 5   SECTOR IES                                 135282 non-null  object\n",
      " 6   NIVEL DE FORMACIÓN                         144595 non-null  object\n",
      " 7   MODALIDAD DE LÍNEA                         144595 non-null  object\n",
      " 8   MODALIDAD DEL CRÉDITO                      144595 non-null  object\n",
      " 9   VIGENCIA                                   144595 non-null  int64 \n",
      " 10  PERIODO OTORGAMIENTO                       144595 non-null  object\n",
      " 11  RANGO DEL VALOR TOTAL DESEMBOLSADO         144595 non-null  object\n",
      " 12  NÚMERO DE NUEVOS BENEFICIARIOS DE CRÉDITO  144595 non-null  int64 \n",
      "dtypes: int64(4), object(9)\n",
      "memory usage: 14.3+ MB\n"
     ]
    }
   ],
   "source": [
    "# una vista preliminar del DF\n",
    "data.info()"
   ]
  },
  {
   "cell_type": "code",
   "execution_count": 5,
   "id": "44d65b26",
   "metadata": {},
   "outputs": [
    {
     "data": {
      "text/html": [
       "<div>\n",
       "<style scoped>\n",
       "    .dataframe tbody tr th:only-of-type {\n",
       "        vertical-align: middle;\n",
       "    }\n",
       "\n",
       "    .dataframe tbody tr th {\n",
       "        vertical-align: top;\n",
       "    }\n",
       "\n",
       "    .dataframe thead th {\n",
       "        text-align: right;\n",
       "    }\n",
       "</style>\n",
       "<table border=\"1\" class=\"dataframe\">\n",
       "  <thead>\n",
       "    <tr style=\"text-align: right;\">\n",
       "      <th></th>\n",
       "      <th>SEXO</th>\n",
       "      <th>ESTRATO SOCIOECONÓMICO</th>\n",
       "      <th>CÓDIGO DE DEPARTAMENTO DE ORIGEN</th>\n",
       "      <th>DEPARTAMENTO DE ORIGEN</th>\n",
       "      <th>CATEGORÍA DEL MUNICIPIO DE ORIGEN</th>\n",
       "      <th>SECTOR IES</th>\n",
       "      <th>NIVEL DE FORMACIÓN</th>\n",
       "      <th>MODALIDAD DE LÍNEA</th>\n",
       "      <th>MODALIDAD DEL CRÉDITO</th>\n",
       "      <th>VIGENCIA</th>\n",
       "      <th>PERIODO OTORGAMIENTO</th>\n",
       "      <th>RANGO DEL VALOR TOTAL DESEMBOLSADO</th>\n",
       "      <th>NÚMERO DE NUEVOS BENEFICIARIOS DE CRÉDITO</th>\n",
       "    </tr>\n",
       "  </thead>\n",
       "  <tbody>\n",
       "    <tr>\n",
       "      <th>0</th>\n",
       "      <td>FEMENINO</td>\n",
       "      <td>1</td>\n",
       "      <td>5</td>\n",
       "      <td>ANTIOQUIA</td>\n",
       "      <td>CIUDADES Y AGLOMERACIONES</td>\n",
       "      <td>OFICIAL</td>\n",
       "      <td>FORMACION TECNICA PROFESIONAL</td>\n",
       "      <td>PREGRADO</td>\n",
       "      <td>MATRICULA</td>\n",
       "      <td>2015</td>\n",
       "      <td>2015-1</td>\n",
       "      <td>I</td>\n",
       "      <td>1</td>\n",
       "    </tr>\n",
       "    <tr>\n",
       "      <th>1</th>\n",
       "      <td>FEMENINO</td>\n",
       "      <td>1</td>\n",
       "      <td>5</td>\n",
       "      <td>ANTIOQUIA</td>\n",
       "      <td>CIUDADES Y AGLOMERACIONES</td>\n",
       "      <td>OFICIAL</td>\n",
       "      <td>FORMACION TECNICA PROFESIONAL</td>\n",
       "      <td>PREGRADO</td>\n",
       "      <td>MATRICULA</td>\n",
       "      <td>2015</td>\n",
       "      <td>2015-1</td>\n",
       "      <td>IV</td>\n",
       "      <td>2</td>\n",
       "    </tr>\n",
       "    <tr>\n",
       "      <th>2</th>\n",
       "      <td>FEMENINO</td>\n",
       "      <td>1</td>\n",
       "      <td>5</td>\n",
       "      <td>ANTIOQUIA</td>\n",
       "      <td>CIUDADES Y AGLOMERACIONES</td>\n",
       "      <td>OFICIAL</td>\n",
       "      <td>FORMACION TECNICA PROFESIONAL</td>\n",
       "      <td>PREGRADO</td>\n",
       "      <td>MATRICULA</td>\n",
       "      <td>2015</td>\n",
       "      <td>2015-1</td>\n",
       "      <td>V</td>\n",
       "      <td>1</td>\n",
       "    </tr>\n",
       "    <tr>\n",
       "      <th>3</th>\n",
       "      <td>FEMENINO</td>\n",
       "      <td>1</td>\n",
       "      <td>5</td>\n",
       "      <td>ANTIOQUIA</td>\n",
       "      <td>CIUDADES Y AGLOMERACIONES</td>\n",
       "      <td>OFICIAL</td>\n",
       "      <td>TECNOLOGICA</td>\n",
       "      <td>PREGRADO</td>\n",
       "      <td>SOSTENIMIENTO</td>\n",
       "      <td>2015</td>\n",
       "      <td>2015-1</td>\n",
       "      <td>I</td>\n",
       "      <td>1</td>\n",
       "    </tr>\n",
       "    <tr>\n",
       "      <th>4</th>\n",
       "      <td>FEMENINO</td>\n",
       "      <td>1</td>\n",
       "      <td>5</td>\n",
       "      <td>ANTIOQUIA</td>\n",
       "      <td>CIUDADES Y AGLOMERACIONES</td>\n",
       "      <td>OFICIAL</td>\n",
       "      <td>UNIVERSITARIA</td>\n",
       "      <td>PREGRADO</td>\n",
       "      <td>MATRICULA</td>\n",
       "      <td>2015</td>\n",
       "      <td>2015-1</td>\n",
       "      <td>I</td>\n",
       "      <td>5</td>\n",
       "    </tr>\n",
       "  </tbody>\n",
       "</table>\n",
       "</div>"
      ],
      "text/plain": [
       "       SEXO  ESTRATO SOCIOECONÓMICO  CÓDIGO DE DEPARTAMENTO DE ORIGEN  \\\n",
       "0  FEMENINO                       1                                 5   \n",
       "1  FEMENINO                       1                                 5   \n",
       "2  FEMENINO                       1                                 5   \n",
       "3  FEMENINO                       1                                 5   \n",
       "4  FEMENINO                       1                                 5   \n",
       "\n",
       "  DEPARTAMENTO DE ORIGEN CATEGORÍA DEL MUNICIPIO DE ORIGEN SECTOR IES  \\\n",
       "0              ANTIOQUIA         CIUDADES Y AGLOMERACIONES    OFICIAL   \n",
       "1              ANTIOQUIA         CIUDADES Y AGLOMERACIONES    OFICIAL   \n",
       "2              ANTIOQUIA         CIUDADES Y AGLOMERACIONES    OFICIAL   \n",
       "3              ANTIOQUIA         CIUDADES Y AGLOMERACIONES    OFICIAL   \n",
       "4              ANTIOQUIA         CIUDADES Y AGLOMERACIONES    OFICIAL   \n",
       "\n",
       "              NIVEL DE FORMACIÓN MODALIDAD DE LÍNEA MODALIDAD DEL CRÉDITO  \\\n",
       "0  FORMACION TECNICA PROFESIONAL           PREGRADO             MATRICULA   \n",
       "1  FORMACION TECNICA PROFESIONAL           PREGRADO             MATRICULA   \n",
       "2  FORMACION TECNICA PROFESIONAL           PREGRADO             MATRICULA   \n",
       "3                    TECNOLOGICA           PREGRADO         SOSTENIMIENTO   \n",
       "4                  UNIVERSITARIA           PREGRADO             MATRICULA   \n",
       "\n",
       "   VIGENCIA PERIODO OTORGAMIENTO RANGO DEL VALOR TOTAL DESEMBOLSADO  \\\n",
       "0      2015               2015-1                                  I   \n",
       "1      2015               2015-1                                 IV   \n",
       "2      2015               2015-1                                  V   \n",
       "3      2015               2015-1                                  I   \n",
       "4      2015               2015-1                                  I   \n",
       "\n",
       "   NÚMERO DE NUEVOS BENEFICIARIOS DE CRÉDITO  \n",
       "0                                          1  \n",
       "1                                          2  \n",
       "2                                          1  \n",
       "3                                          1  \n",
       "4                                          5  "
      ]
     },
     "execution_count": 5,
     "metadata": {},
     "output_type": "execute_result"
    }
   ],
   "source": [
    "data.head()"
   ]
  },
  {
   "cell_type": "code",
   "execution_count": 6,
   "id": "b0e75336",
   "metadata": {},
   "outputs": [],
   "source": [
    "# seleccionamos los datos a utilizar\n",
    "data_relevante=data[[\"SEXO\",\"ESTRATO SOCIOECONÓMICO\",\"DEPARTAMENTO DE ORIGEN\",\"SECTOR IES\",\"NIVEL DE FORMACIÓN\",\"MODALIDAD DE LÍNEA\",\n",
    "                 \"MODALIDAD DEL CRÉDITO\"]]"
   ]
  },
  {
   "cell_type": "code",
   "execution_count": 7,
   "id": "0e50ddeb",
   "metadata": {},
   "outputs": [
    {
     "name": "stdout",
     "output_type": "stream",
     "text": [
      "<class 'pandas.core.frame.DataFrame'>\n",
      "RangeIndex: 144595 entries, 0 to 144594\n",
      "Data columns (total 7 columns):\n",
      " #   Column                  Non-Null Count   Dtype \n",
      "---  ------                  --------------   ----- \n",
      " 0   SEXO                    144595 non-null  object\n",
      " 1   ESTRATO SOCIOECONÓMICO  144595 non-null  int64 \n",
      " 2   DEPARTAMENTO DE ORIGEN  144595 non-null  object\n",
      " 3   SECTOR IES              135282 non-null  object\n",
      " 4   NIVEL DE FORMACIÓN      144595 non-null  object\n",
      " 5   MODALIDAD DE LÍNEA      144595 non-null  object\n",
      " 6   MODALIDAD DEL CRÉDITO   144595 non-null  object\n",
      "dtypes: int64(1), object(6)\n",
      "memory usage: 7.7+ MB\n"
     ]
    }
   ],
   "source": [
    "data_relevante.info() # revisamos la situacion"
   ]
  },
  {
   "cell_type": "markdown",
   "id": "d46d3354",
   "metadata": {},
   "source": [
    "se presenta una cantidad de espacios vacios para SECTOR IES por los demas los datos son congruentes, vamos a proceder a revisar cuales son los datos vacios"
   ]
  },
  {
   "cell_type": "code",
   "execution_count": 8,
   "id": "b13deec1",
   "metadata": {},
   "outputs": [
    {
     "data": {
      "text/plain": [
       "9313"
      ]
     },
     "execution_count": 8,
     "metadata": {},
     "output_type": "execute_result"
    }
   ],
   "source": [
    "data_relevante[\"SECTOR IES\"].isnull().sum() # tenemos un total de 9313 filas sin el dato SECTOR IES"
   ]
  },
  {
   "cell_type": "code",
   "execution_count": 9,
   "id": "71d78c8c",
   "metadata": {},
   "outputs": [
    {
     "data": {
      "text/html": [
       "<div>\n",
       "<style scoped>\n",
       "    .dataframe tbody tr th:only-of-type {\n",
       "        vertical-align: middle;\n",
       "    }\n",
       "\n",
       "    .dataframe tbody tr th {\n",
       "        vertical-align: top;\n",
       "    }\n",
       "\n",
       "    .dataframe thead th {\n",
       "        text-align: right;\n",
       "    }\n",
       "</style>\n",
       "<table border=\"1\" class=\"dataframe\">\n",
       "  <thead>\n",
       "    <tr style=\"text-align: right;\">\n",
       "      <th></th>\n",
       "      <th>SEXO</th>\n",
       "      <th>ESTRATO SOCIOECONÓMICO</th>\n",
       "      <th>DEPARTAMENTO DE ORIGEN</th>\n",
       "      <th>SECTOR IES</th>\n",
       "      <th>NIVEL DE FORMACIÓN</th>\n",
       "      <th>MODALIDAD DE LÍNEA</th>\n",
       "      <th>MODALIDAD DEL CRÉDITO</th>\n",
       "    </tr>\n",
       "  </thead>\n",
       "  <tbody>\n",
       "    <tr>\n",
       "      <th>39</th>\n",
       "      <td>FEMENINO</td>\n",
       "      <td>1</td>\n",
       "      <td>ATLÁNTICO</td>\n",
       "      <td>NaN</td>\n",
       "      <td>EDUCACION CONTINUADA</td>\n",
       "      <td>CRÉDITO EXTERIOR</td>\n",
       "      <td>MATRICULA</td>\n",
       "    </tr>\n",
       "    <tr>\n",
       "      <th>229</th>\n",
       "      <td>FEMENINO</td>\n",
       "      <td>1</td>\n",
       "      <td>CAQUETÁ</td>\n",
       "      <td>NaN</td>\n",
       "      <td>EDUCACION CONTINUADA</td>\n",
       "      <td>CRÉDITO EXTERIOR</td>\n",
       "      <td>MATRICULA</td>\n",
       "    </tr>\n",
       "    <tr>\n",
       "      <th>248</th>\n",
       "      <td>FEMENINO</td>\n",
       "      <td>1</td>\n",
       "      <td>CAUCA</td>\n",
       "      <td>NaN</td>\n",
       "      <td>EDUCACION CONTINUADA</td>\n",
       "      <td>CRÉDITO EXTERIOR</td>\n",
       "      <td>MATRICULA</td>\n",
       "    </tr>\n",
       "    <tr>\n",
       "      <th>280</th>\n",
       "      <td>FEMENINO</td>\n",
       "      <td>1</td>\n",
       "      <td>CAUCA</td>\n",
       "      <td>NaN</td>\n",
       "      <td>EDUCACION CONTINUADA</td>\n",
       "      <td>CRÉDITO EXTERIOR</td>\n",
       "      <td>MATRICULA</td>\n",
       "    </tr>\n",
       "    <tr>\n",
       "      <th>330</th>\n",
       "      <td>FEMENINO</td>\n",
       "      <td>1</td>\n",
       "      <td>CÓRDOBA</td>\n",
       "      <td>NaN</td>\n",
       "      <td>EDUCACION CONTINUADA</td>\n",
       "      <td>CRÉDITO EXTERIOR</td>\n",
       "      <td>MATRICULA</td>\n",
       "    </tr>\n",
       "    <tr>\n",
       "      <th>...</th>\n",
       "      <td>...</td>\n",
       "      <td>...</td>\n",
       "      <td>...</td>\n",
       "      <td>...</td>\n",
       "      <td>...</td>\n",
       "      <td>...</td>\n",
       "      <td>...</td>\n",
       "    </tr>\n",
       "    <tr>\n",
       "      <th>144576</th>\n",
       "      <td>Masculino</td>\n",
       "      <td>6</td>\n",
       "      <td>CESAR</td>\n",
       "      <td>NaN</td>\n",
       "      <td>Educación continuada</td>\n",
       "      <td>CRÉDITO EXTERIOR</td>\n",
       "      <td>SOSTENIMIENTO</td>\n",
       "    </tr>\n",
       "    <tr>\n",
       "      <th>144580</th>\n",
       "      <td>Masculino</td>\n",
       "      <td>6</td>\n",
       "      <td>NORTE DE SANTANDER</td>\n",
       "      <td>NaN</td>\n",
       "      <td>Educación continuada</td>\n",
       "      <td>CRÉDITO EXTERIOR</td>\n",
       "      <td>MATRICULA</td>\n",
       "    </tr>\n",
       "    <tr>\n",
       "      <th>144586</th>\n",
       "      <td>Masculino</td>\n",
       "      <td>6</td>\n",
       "      <td>SANTANDER</td>\n",
       "      <td>NaN</td>\n",
       "      <td>Educación continuada</td>\n",
       "      <td>CRÉDITO EXTERIOR</td>\n",
       "      <td>SOSTENIMIENTO</td>\n",
       "    </tr>\n",
       "    <tr>\n",
       "      <th>144589</th>\n",
       "      <td>Masculino</td>\n",
       "      <td>6</td>\n",
       "      <td>TOLIMA</td>\n",
       "      <td>NaN</td>\n",
       "      <td>Educación continuada</td>\n",
       "      <td>CRÉDITO EXTERIOR</td>\n",
       "      <td>MATRICULA</td>\n",
       "    </tr>\n",
       "    <tr>\n",
       "      <th>144590</th>\n",
       "      <td>Masculino</td>\n",
       "      <td>6</td>\n",
       "      <td>VALLE DEL CAUCA</td>\n",
       "      <td>NaN</td>\n",
       "      <td>Educación continuada</td>\n",
       "      <td>CRÉDITO EXTERIOR</td>\n",
       "      <td>MATRICULA</td>\n",
       "    </tr>\n",
       "  </tbody>\n",
       "</table>\n",
       "<p>9313 rows × 7 columns</p>\n",
       "</div>"
      ],
      "text/plain": [
       "             SEXO  ESTRATO SOCIOECONÓMICO DEPARTAMENTO DE ORIGEN SECTOR IES  \\\n",
       "39       FEMENINO                       1              ATLÁNTICO        NaN   \n",
       "229      FEMENINO                       1                CAQUETÁ        NaN   \n",
       "248      FEMENINO                       1                  CAUCA        NaN   \n",
       "280      FEMENINO                       1                  CAUCA        NaN   \n",
       "330      FEMENINO                       1                CÓRDOBA        NaN   \n",
       "...           ...                     ...                    ...        ...   \n",
       "144576  Masculino                       6                  CESAR        NaN   \n",
       "144580  Masculino                       6     NORTE DE SANTANDER        NaN   \n",
       "144586  Masculino                       6              SANTANDER        NaN   \n",
       "144589  Masculino                       6                 TOLIMA        NaN   \n",
       "144590  Masculino                       6        VALLE DEL CAUCA        NaN   \n",
       "\n",
       "          NIVEL DE FORMACIÓN MODALIDAD DE LÍNEA MODALIDAD DEL CRÉDITO  \n",
       "39      EDUCACION CONTINUADA   CRÉDITO EXTERIOR             MATRICULA  \n",
       "229     EDUCACION CONTINUADA   CRÉDITO EXTERIOR             MATRICULA  \n",
       "248     EDUCACION CONTINUADA   CRÉDITO EXTERIOR             MATRICULA  \n",
       "280     EDUCACION CONTINUADA   CRÉDITO EXTERIOR             MATRICULA  \n",
       "330     EDUCACION CONTINUADA   CRÉDITO EXTERIOR             MATRICULA  \n",
       "...                      ...                ...                   ...  \n",
       "144576  Educación continuada   CRÉDITO EXTERIOR         SOSTENIMIENTO  \n",
       "144580  Educación continuada   CRÉDITO EXTERIOR             MATRICULA  \n",
       "144586  Educación continuada   CRÉDITO EXTERIOR         SOSTENIMIENTO  \n",
       "144589  Educación continuada   CRÉDITO EXTERIOR             MATRICULA  \n",
       "144590  Educación continuada   CRÉDITO EXTERIOR             MATRICULA  \n",
       "\n",
       "[9313 rows x 7 columns]"
      ]
     },
     "execution_count": 9,
     "metadata": {},
     "output_type": "execute_result"
    }
   ],
   "source": [
    "# deseamos saber cuales son las filas donde se presenta esta situacion, para eso usamos LOC\n",
    "\n",
    "data_relevante.loc[data_relevante[\"SECTOR IES\"].isnull()]"
   ]
  },
  {
   "cell_type": "code",
   "execution_count": 10,
   "id": "41109f6b",
   "metadata": {},
   "outputs": [],
   "source": [
    "# decidimos que para no alterar la data, y evidenciando que no se va a afectar el analisis que hacemos ya que los NA corresponden a credito\n",
    "# al exterior, vamos a reemplazar los NA con \"Sin sector IES\""
   ]
  },
  {
   "cell_type": "code",
   "execution_count": 11,
   "id": "5870cb61",
   "metadata": {},
   "outputs": [
    {
     "name": "stderr",
     "output_type": "stream",
     "text": [
      "C:\\Users\\Home\\AppData\\Local\\Temp\\ipykernel_15832\\3005999864.py:3: SettingWithCopyWarning: \n",
      "A value is trying to be set on a copy of a slice from a DataFrame\n",
      "\n",
      "See the caveats in the documentation: https://pandas.pydata.org/pandas-docs/stable/user_guide/indexing.html#returning-a-view-versus-a-copy\n",
      "  data_relevante[\"SECTOR IES\"].fillna(\"Sin sector IES\",inplace=True)\n"
     ]
    }
   ],
   "source": [
    "# procedemos a reemplazar los valores N/A con \"sin sector IES\"\n",
    "\n",
    "data_relevante[\"SECTOR IES\"].fillna(\"Sin sector IES\",inplace=True)"
   ]
  },
  {
   "cell_type": "code",
   "execution_count": 12,
   "id": "39b3d9f5",
   "metadata": {},
   "outputs": [
    {
     "name": "stdout",
     "output_type": "stream",
     "text": [
      "<class 'pandas.core.frame.DataFrame'>\n",
      "RangeIndex: 144595 entries, 0 to 144594\n",
      "Data columns (total 7 columns):\n",
      " #   Column                  Non-Null Count   Dtype \n",
      "---  ------                  --------------   ----- \n",
      " 0   SEXO                    144595 non-null  object\n",
      " 1   ESTRATO SOCIOECONÓMICO  144595 non-null  int64 \n",
      " 2   DEPARTAMENTO DE ORIGEN  144595 non-null  object\n",
      " 3   SECTOR IES              144595 non-null  object\n",
      " 4   NIVEL DE FORMACIÓN      144595 non-null  object\n",
      " 5   MODALIDAD DE LÍNEA      144595 non-null  object\n",
      " 6   MODALIDAD DEL CRÉDITO   144595 non-null  object\n",
      "dtypes: int64(1), object(6)\n",
      "memory usage: 7.7+ MB\n"
     ]
    }
   ],
   "source": [
    "data_relevante.info() # ahora tenemos datos mas consisos"
   ]
  },
  {
   "cell_type": "code",
   "execution_count": 13,
   "id": "7323ee11",
   "metadata": {},
   "outputs": [
    {
     "name": "stdout",
     "output_type": "stream",
     "text": [
      "columa: SEXO, cantidad de variables-subniveles: 5\n",
      "columa: ESTRATO SOCIOECONÓMICO, cantidad de variables-subniveles: 6\n",
      "columa: DEPARTAMENTO DE ORIGEN, cantidad de variables-subniveles: 35\n",
      "columa: SECTOR IES, cantidad de variables-subniveles: 3\n",
      "columa: NIVEL DE FORMACIÓN, cantidad de variables-subniveles: 23\n",
      "columa: MODALIDAD DE LÍNEA, cantidad de variables-subniveles: 3\n",
      "columa: MODALIDAD DEL CRÉDITO, cantidad de variables-subniveles: 3\n"
     ]
    }
   ],
   "source": [
    "# vamos a revisar la cantidad de variables categoricas por columna\n",
    "\n",
    "columnas_seleccionadas=[\"SEXO\",\"ESTRATO SOCIOECONÓMICO\",\"DEPARTAMENTO DE ORIGEN\",\"SECTOR IES\",\"NIVEL DE FORMACIÓN\",\"MODALIDAD DE LÍNEA\",\n",
    "                 \"MODALIDAD DEL CRÉDITO\"]\n",
    "\n",
    "for col in columnas_seleccionadas:\n",
    "    print(\"columa: {}, cantidad de variables-subniveles: {}\".format(col,data_relevante[col].nunique()))"
   ]
  },
  {
   "cell_type": "markdown",
   "id": "0cd9e043",
   "metadata": {},
   "source": [
    "sexo posee 5 variables, algo muy extraño, estrato socieconomico esta bien si consideramos que en colombia hay 6 niveles, departamento origen tambien parece estar bien, sector IES tambien, niveles de formacion cuenta con 23, las otras tambien estan bien\n",
    "\n",
    "en general la informacion para ser mas concisa, sin embargo, generaremos varios graficos para revisar exactamente que no tengamos errores tipograficos"
   ]
  },
  {
   "cell_type": "code",
   "execution_count": 14,
   "id": "cd310cdb",
   "metadata": {},
   "outputs": [],
   "source": [
    "# analizando las variables individualmente:\n",
    "# sexo\n",
    "\n",
    "import matplotlib.pyplot as plt\n",
    "import seaborn as sns"
   ]
  },
  {
   "cell_type": "code",
   "execution_count": 15,
   "id": "81750978",
   "metadata": {},
   "outputs": [
    {
     "name": "stderr",
     "output_type": "stream",
     "text": [
      "C:\\Users\\Home\\AppData\\Local\\Temp\\ipykernel_15832\\995315679.py:4: SettingWithCopyWarning: \n",
      "A value is trying to be set on a copy of a slice from a DataFrame.\n",
      "Try using .loc[row_indexer,col_indexer] = value instead\n",
      "\n",
      "See the caveats in the documentation: https://pandas.pydata.org/pandas-docs/stable/user_guide/indexing.html#returning-a-view-versus-a-copy\n",
      "  data_relevante['cat_numerico_SEXO']=data_relevante['SEXO'].map(mapping)\n"
     ]
    }
   ],
   "source": [
    "# mapeamos cada valor de texto a un valor numerico\n",
    "\n",
    "mapping={cat: idx for idx, cat in enumerate(data_relevante['SEXO'].unique())}\n",
    "data_relevante['cat_numerico_SEXO']=data_relevante['SEXO'].map(mapping)"
   ]
  },
  {
   "cell_type": "code",
   "execution_count": 16,
   "id": "0569e77a",
   "metadata": {},
   "outputs": [
    {
     "data": {
      "image/png": "[encoded data removed]",
      "text/plain": [
       "<Figure size 1000x1000 with 1 Axes>"
      ]
     },
     "metadata": {},
     "output_type": "display_data"
    }
   ],
   "source": [
    "## graficamos\n",
    "\n",
    "plt.figure(figsize=(10,10))\n",
    "\n",
    "sns.boxplot(x='cat_numerico_SEXO',y='SEXO',data=data_relevante)\n",
    "plt.show()"
   ]
  },
  {
   "cell_type": "markdown",
   "id": "32c926c5",
   "metadata": {},
   "source": [
    "Observamos que tenemos un problema en la variable sexo, ya que tenemos errores tipograficos, debemos arreglarlo para poder continuar"
   ]
  },
  {
   "cell_type": "code",
   "execution_count": 17,
   "id": "9139ba24",
   "metadata": {},
   "outputs": [
    {
     "name": "stderr",
     "output_type": "stream",
     "text": [
      "C:\\Users\\Home\\AppData\\Local\\Temp\\ipykernel_15832\\3451612402.py:3: SettingWithCopyWarning: \n",
      "A value is trying to be set on a copy of a slice from a DataFrame.\n",
      "Try using .loc[row_indexer,col_indexer] = value instead\n",
      "\n",
      "See the caveats in the documentation: https://pandas.pydata.org/pandas-docs/stable/user_guide/indexing.html#returning-a-view-versus-a-copy\n",
      "  data_relevante['SEXO']=data_relevante['SEXO'].replace({\"MASCULINO\":\"Masculino\",\"FEMENINO\":\"Femenino\"},regex=True)\n"
     ]
    }
   ],
   "source": [
    "## arreglando la tipografica de SEXO\n",
    "## usamos el metodo replace y su variable regex para que convierta todas las casualidad en Masculino y Femenino\n",
    "data_relevante['SEXO']=data_relevante['SEXO'].replace({\"MASCULINO\":\"Masculino\",\"FEMENINO\":\"Femenino\"},regex=True)"
   ]
  },
  {
   "cell_type": "markdown",
   "id": "f7e96091",
   "metadata": {},
   "source": [
    "realizando el reemplazo podemos realizar nuevamente la grafica"
   ]
  },
  {
   "cell_type": "code",
   "execution_count": 18,
   "id": "6e2f9f55",
   "metadata": {},
   "outputs": [
    {
     "data": {
      "image/png": "[encoded data removed]",
      "text/plain": [
       "<Figure size 1000x1000 with 1 Axes>"
      ]
     },
     "metadata": {},
     "output_type": "display_data"
    }
   ],
   "source": [
    "## graficamos nuevamente\n",
    "\n",
    "plt.figure(figsize=(10,10))\n",
    "\n",
    "sns.boxplot(x='cat_numerico_SEXO',y='SEXO',data=data_relevante)\n",
    "plt.show()"
   ]
  },
  {
   "cell_type": "markdown",
   "id": "637a6046",
   "metadata": {},
   "source": [
    "ya tenemos la informacion que necesitamos correctamente, revisemos las otras variables"
   ]
  },
  {
   "cell_type": "code",
   "execution_count": 19,
   "id": "9aebc2cb",
   "metadata": {},
   "outputs": [],
   "source": [
    "variables=[\"SEXO\",\"ESTRATO SOCIOECONÓMICO\",\"DEPARTAMENTO DE ORIGEN\",\"SECTOR IES\",\"NIVEL DE FORMACIÓN\",\"MODALIDAD DE LÍNEA\",\n",
    "                 \"MODALIDAD DEL CRÉDITO\"]"
   ]
  },
  {
   "cell_type": "code",
   "execution_count": 20,
   "id": "ef5773c6",
   "metadata": {},
   "outputs": [
    {
     "name": "stderr",
     "output_type": "stream",
     "text": [
      "C:\\Users\\Home\\AppData\\Local\\Temp\\ipykernel_15832\\3659576146.py:5: SettingWithCopyWarning: \n",
      "A value is trying to be set on a copy of a slice from a DataFrame.\n",
      "Try using .loc[row_indexer,col_indexer] = value instead\n",
      "\n",
      "See the caveats in the documentation: https://pandas.pydata.org/pandas-docs/stable/user_guide/indexing.html#returning-a-view-versus-a-copy\n",
      "  data_relevante['cat_numerico_dep_origen']=data_relevante['DEPARTAMENTO DE ORIGEN'].map(mapping)\n"
     ]
    }
   ],
   "source": [
    "# grafiquemos departamento de origen\n",
    "# mapeamos cada valor de texto a un valor numerico\n",
    "\n",
    "mapping={cat: idx for idx, cat in enumerate(data_relevante['DEPARTAMENTO DE ORIGEN'].unique())}\n",
    "data_relevante['cat_numerico_dep_origen']=data_relevante['DEPARTAMENTO DE ORIGEN'].map(mapping)"
   ]
  },
  {
   "cell_type": "code",
   "execution_count": 21,
   "id": "2cf0aa6c",
   "metadata": {},
   "outputs": [
    {
     "data": {
      "image/png": "[encoded data removed]",
      "text/plain": [
       "<Figure size 1000x1000 with 1 Axes>"
      ]
     },
     "metadata": {},
     "output_type": "display_data"
    }
   ],
   "source": [
    "# graficamos nuevamente\n",
    "\n",
    "plt.figure(figsize=(10,10))\n",
    "\n",
    "sns.boxplot(x='cat_numerico_dep_origen',y='DEPARTAMENTO DE ORIGEN',data=data_relevante)\n",
    "plt.show()"
   ]
  },
  {
   "cell_type": "markdown",
   "id": "054e5a16",
   "metadata": {},
   "source": [
    "los departamentos no presentan ningun error tipografico"
   ]
  },
  {
   "cell_type": "code",
   "execution_count": 22,
   "id": "815be0a0",
   "metadata": {},
   "outputs": [
    {
     "name": "stderr",
     "output_type": "stream",
     "text": [
      "C:\\Users\\Home\\AppData\\Local\\Temp\\ipykernel_15832\\1863304087.py:4: SettingWithCopyWarning: \n",
      "A value is trying to be set on a copy of a slice from a DataFrame.\n",
      "Try using .loc[row_indexer,col_indexer] = value instead\n",
      "\n",
      "See the caveats in the documentation: https://pandas.pydata.org/pandas-docs/stable/user_guide/indexing.html#returning-a-view-versus-a-copy\n",
      "  data_relevante['cat_numerico_sector_ies']=data_relevante['SECTOR IES'].map(mapping)\n"
     ]
    }
   ],
   "source": [
    "# revision sector IES\n",
    "\n",
    "mapping={cat: idx for idx, cat in enumerate(data_relevante['SECTOR IES'].unique())}\n",
    "data_relevante['cat_numerico_sector_ies']=data_relevante['SECTOR IES'].map(mapping)"
   ]
  },
  {
   "cell_type": "code",
   "execution_count": 23,
   "id": "5919e2f2",
   "metadata": {},
   "outputs": [
    {
     "data": {
      "image/png": "[encoded data removed]",
      "text/plain": [
       "<Figure size 1000x1000 with 1 Axes>"
      ]
     },
     "metadata": {},
     "output_type": "display_data"
    }
   ],
   "source": [
    "# graficamos nuevamente\n",
    "\n",
    "plt.figure(figsize=(10,10))\n",
    "\n",
    "sns.boxplot(x='cat_numerico_sector_ies',y='SECTOR IES',data=data_relevante)\n",
    "plt.show()"
   ]
  },
  {
   "cell_type": "markdown",
   "id": "76653adc",
   "metadata": {},
   "source": [
    "Sin sector IES es un agregado que inicialmente colocamos para los valores NAN, no se evidencia errores"
   ]
  },
  {
   "cell_type": "code",
   "execution_count": 24,
   "id": "8b0a500b",
   "metadata": {},
   "outputs": [
    {
     "name": "stderr",
     "output_type": "stream",
     "text": [
      "C:\\Users\\Home\\AppData\\Local\\Temp\\ipykernel_15832\\3118578298.py:4: SettingWithCopyWarning: \n",
      "A value is trying to be set on a copy of a slice from a DataFrame.\n",
      "Try using .loc[row_indexer,col_indexer] = value instead\n",
      "\n",
      "See the caveats in the documentation: https://pandas.pydata.org/pandas-docs/stable/user_guide/indexing.html#returning-a-view-versus-a-copy\n",
      "  data_relevante['cat_numerico_niv_formacion']=data_relevante['NIVEL DE FORMACIÓN'].map(mapping)\n"
     ]
    }
   ],
   "source": [
    "# revision NIVEL DE FORMACIÓN\n",
    "\n",
    "mapping={cat: idx for idx, cat in enumerate(data_relevante['NIVEL DE FORMACIÓN'].unique())}\n",
    "data_relevante['cat_numerico_niv_formacion']=data_relevante['NIVEL DE FORMACIÓN'].map(mapping)"
   ]
  },
  {
   "cell_type": "code",
   "execution_count": 25,
   "id": "485aced5",
   "metadata": {},
   "outputs": [
    {
     "data": {
      "image/png": "[encoded data removed]",
      "text/plain": [
       "<Figure size 1000x1000 with 1 Axes>"
      ]
     },
     "metadata": {},
     "output_type": "display_data"
    }
   ],
   "source": [
    "plt.figure(figsize=(10,10))\n",
    "\n",
    "sns.boxplot(x='cat_numerico_niv_formacion',y='NIVEL DE FORMACIÓN',data=data_relevante)\n",
    "plt.show()"
   ]
  },
  {
   "cell_type": "markdown",
   "id": "d4422103",
   "metadata": {},
   "source": [
    "como supusimos, la variable nivel de formacion presenta errores de tipografica debido a las minusculas y mayusculas "
   ]
  },
  {
   "cell_type": "code",
   "execution_count": 151,
   "id": "44c8a85c",
   "metadata": {},
   "outputs": [],
   "source": [
    "data_relevante[\"NIVEL DE FORMACIÓN\"]=data_relevante[\"NIVEL DE FORMACIÓN\"].replace({\n",
    "    \"ESPECIALIZACION MEDICO QUIRURGICA\":\"Especialización médico quirúrgica\",\n",
    "    \"ESPECIALIZACION TECNOLOGICA\":\"Especialización universitaria\",\n",
    "    \"ESPECIALIZACION UNIVERSITARIA\":\"Especialización universitaria\",\n",
    "    \"ESPECIALIZACION UNIVERSITARIA\":\"Formación técnica profesional\",\n",
    "    \"MAESTRIA\":\"Maestría\",\n",
    "    \"NORMALISTA\":\"Normalista\",\n",
    "    \"UNIVERSITARIA\":\"Universitario\",\n",
    "    \"FORMACION TECNICA PROFESIONAL\":\"Formación técnica profesional\",\n",
    "    \"TECNOLOGICA\":\"Tecnológico\",\n",
    "    \"DOCTORADO\":\"Doctorado\",\n",
    "    \"EDUCACION CONTINUADA\":\"Educación continuada\",\n",
    "    \"ESPECIALIZACION TECNICO PROFESIONAL\":\"Formación técnica profesional\"\n",
    "},regex=True)"
   ]
  },
  {
   "cell_type": "code",
   "execution_count": 152,
   "id": "9654a52f",
   "metadata": {},
   "outputs": [
    {
     "data": {
      "image/png": "[encoded data removed]",
      "text/plain": [
       "<Figure size 1000x1000 with 1 Axes>"
      ]
     },
     "metadata": {},
     "output_type": "display_data"
    }
   ],
   "source": [
    "plt.figure(figsize=(10,10))\n",
    "\n",
    "sns.boxplot(x='cat_numerico_niv_formacion',y='NIVEL DE FORMACIÓN',data=data_relevante)\n",
    "plt.show()"
   ]
  },
  {
   "cell_type": "code",
   "execution_count": 153,
   "id": "f91173c8",
   "metadata": {},
   "outputs": [
    {
     "name": "stdout",
     "output_type": "stream",
     "text": [
      "0 Doctorado\n",
      "1 Educación continuada\n",
      "2 Especialización médico quirúrgica\n",
      "3 Especialización tecnológica\n",
      "4 Especialización técnico profesional\n",
      "5 Especialización universitaria\n",
      "6 Formación técnica profesional\n",
      "7 Maestría\n",
      "8 Normalista\n",
      "9 PASANTIA\n",
      "10 Tecnológico\n",
      "11 Universitario\n"
     ]
    }
   ],
   "source": [
    "# colocamos una ayuda para la parte de arriba ya que son demasiadas variables\n",
    "unicos=set(data_relevante[\"NIVEL DE FORMACIÓN\"])\n",
    "unicos_list=list(unicos)\n",
    "ordenados=sorted(unicos_list)\n",
    "\n",
    "for v,k in enumerate(ordenados):\n",
    "    print(v,k)"
   ]
  },
  {
   "cell_type": "markdown",
   "id": "0be5cd54",
   "metadata": {},
   "source": [
    "no tenemos mas problemas con la variable, podemos continuar"
   ]
  },
  {
   "cell_type": "code",
   "execution_count": 29,
   "id": "87f42256",
   "metadata": {},
   "outputs": [
    {
     "name": "stderr",
     "output_type": "stream",
     "text": [
      "C:\\Users\\Home\\AppData\\Local\\Temp\\ipykernel_15832\\1134495326.py:2: SettingWithCopyWarning: \n",
      "A value is trying to be set on a copy of a slice from a DataFrame.\n",
      "Try using .loc[row_indexer,col_indexer] = value instead\n",
      "\n",
      "See the caveats in the documentation: https://pandas.pydata.org/pandas-docs/stable/user_guide/indexing.html#returning-a-view-versus-a-copy\n",
      "  data_relevante['cat_numerico_MODALIDAD DE LÍNEA']=data_relevante['MODALIDAD DE LÍNEA'].map(mapping)\n"
     ]
    },
    {
     "data": {
      "image/png": "[encoded data removed]",
      "text/plain": [
       "<Figure size 1000x1000 with 1 Axes>"
      ]
     },
     "metadata": {},
     "output_type": "display_data"
    }
   ],
   "source": [
    "\n",
    "mapping={cat: idx for idx, cat in enumerate(data_relevante['MODALIDAD DE LÍNEA'].unique())}\n",
    "data_relevante['cat_numerico_MODALIDAD DE LÍNEA']=data_relevante['MODALIDAD DE LÍNEA'].map(mapping)\n",
    "\n",
    "plt.figure(figsize=(10,10))\n",
    "\n",
    "sns.boxplot(x='cat_numerico_MODALIDAD DE LÍNEA',y='MODALIDAD DE LÍNEA',data=data_relevante)\n",
    "plt.show()"
   ]
  },
  {
   "cell_type": "code",
   "execution_count": 30,
   "id": "611e3181",
   "metadata": {},
   "outputs": [
    {
     "data": {
      "image/png": "[encoded data removed]",
      "text/plain": [
       "<Figure size 1000x1000 with 1 Axes>"
      ]
     },
     "metadata": {},
     "output_type": "display_data"
    }
   ],
   "source": [
    "mapping={cat: idx for idx, cat in enumerate(data_relevante['MODALIDAD DEL CRÉDITO'].unique())}\n",
    "data_relevante['cat_numerico_MODALIDAD DEL CRÉDITO']=data_relevante['MODALIDAD DEL CRÉDITO'].map(mapping)\n",
    "\n",
    "plt.figure(figsize=(10,10))\n",
    "\n",
    "sns.boxplot(x='cat_numerico_MODALIDAD DEL CRÉDITO',y='MODALIDAD DEL CRÉDITO',data=data_relevante)\n",
    "plt.show()"
   ]
  },
  {
   "cell_type": "markdown",
   "id": "153040b6",
   "metadata": {},
   "source": [
    "finalmente la revision de datos ha concluido, los datos estan consistentes y se ha solucionado los problemas tipograficos, podemos continuar con el EDA y responder las preguntas del estudio"
   ]
  },
  {
   "cell_type": "markdown",
   "id": "0958c8bf",
   "metadata": {},
   "source": [
    "# Analisis exploratorio de los datos (EDA)\n",
    "\n",
    "en este apartado vamos a realizar la revision de los datos y vamos a responder las preguntas planteadas en nuestro estudio, recordemos las preguntas\n",
    "\n",
    "1. que estratos socieconomicos son los mas beneficiados por los recursos del icetex?\n",
    "2. que departamentos se listan con mas financiacion de parte de esta entidad?\n",
    "3. que niveles de educacion son los que financia el icetex? (tecnologo,tecnico,pregrado,posgrado etc)\n",
    "4. cuales son las modalidades de credito mas usadas\n",
    "5. cuales son los sexos que mas recursos del icetex recibe? existe alguna relacion entre sexo y beneficio?\n"
   ]
  },
  {
   "cell_type": "markdown",
   "id": "1e23e7d7",
   "metadata": {},
   "source": [
    "## que estratos socieconomicos son los mas beneficiados por los recursos del icetex?"
   ]
  },
  {
   "cell_type": "code",
   "execution_count": 31,
   "id": "9b4fb97b",
   "metadata": {},
   "outputs": [],
   "source": [
    "estratos=data_relevante.groupby(\"ESTRATO SOCIOECONÓMICO\")[\"SEXO\"].count()\n"
   ]
  },
  {
   "cell_type": "code",
   "execution_count": 32,
   "id": "58357df2",
   "metadata": {},
   "outputs": [
    {
     "data": {
      "text/plain": [
       "ESTRATO SOCIOECONÓMICO\n",
       "1    43825\n",
       "2    47464\n",
       "3    32022\n",
       "4    13257\n",
       "5     5414\n",
       "6     2613\n",
       "Name: SEXO, dtype: int64"
      ]
     },
     "execution_count": 32,
     "metadata": {},
     "output_type": "execute_result"
    }
   ],
   "source": [
    "estratos"
   ]
  },
  {
   "cell_type": "code",
   "execution_count": 33,
   "id": "b94b5791",
   "metadata": {},
   "outputs": [],
   "source": [
    "import seaborn as sns"
   ]
  },
  {
   "cell_type": "code",
   "execution_count": 34,
   "id": "cf7aea15",
   "metadata": {},
   "outputs": [
    {
     "data": {
      "image/png": "[encoded data removed]",
      "text/plain": [
       "<Figure size 800x1000 with 1 Axes>"
      ]
     },
     "metadata": {},
     "output_type": "display_data"
    }
   ],
   "source": [
    "fig,ax=plt.subplots(figsize=(8,10))\n",
    "ax.bar(estratos.index,estratos)\n",
    "plt.show()"
   ]
  },
  {
   "cell_type": "markdown",
   "id": "6bc792a8",
   "metadata": {},
   "source": [
    "Con la grafica podemos evidenciar que la poblacion estudiada no tiene un comportamiento normal ya que la gran parte de la poblacion se encuentra hacia la izquierda siendo los estratos 1 y 2 los mas beneficiados por creditos del icetex durante el tiempo estudiado."
   ]
  },
  {
   "cell_type": "markdown",
   "id": "8d72903e",
   "metadata": {},
   "source": [
    "## Que departamentos se listan con mas financiacion de parte de esta entidad?"
   ]
  },
  {
   "cell_type": "code",
   "execution_count": 35,
   "id": "8c9581e2",
   "metadata": {},
   "outputs": [],
   "source": [
    "departamentos=data_relevante[[\"DEPARTAMENTO DE ORIGEN\",\"MODALIDAD DEL CRÉDITO\"]]"
   ]
  },
  {
   "cell_type": "code",
   "execution_count": 36,
   "id": "642a56ae",
   "metadata": {},
   "outputs": [],
   "source": [
    "total_departamentos=data_relevante.groupby(\"DEPARTAMENTO DE ORIGEN\")[\"DEPARTAMENTO DE ORIGEN\"].count()"
   ]
  },
  {
   "cell_type": "code",
   "execution_count": 37,
   "id": "a349579c",
   "metadata": {},
   "outputs": [
    {
     "data": {
      "text/plain": [
       "DEPARTAMENTO DE ORIGEN\n",
       "VALLE DEL CAUCA    8800\n",
       "ANTIOQUIA          8686\n",
       "SANTANDER          8504\n",
       "CUNDINAMARCA       7768\n",
       "BOYACÁ             7044\n",
       "NARIÑO             6511\n",
       "BOLÍVAR            6508\n",
       "TOLIMA             6389\n",
       "CÓRDOBA            6200\n",
       "SUCRE              6002\n",
       "Name: DEPARTAMENTO DE ORIGEN, dtype: int64"
      ]
     },
     "execution_count": 37,
     "metadata": {},
     "output_type": "execute_result"
    }
   ],
   "source": [
    "total_departamentos_top_10=total_departamentos.nlargest(10)\n",
    "total_departamentos_top_10"
   ]
  },
  {
   "cell_type": "code",
   "execution_count": 38,
   "id": "424544d6",
   "metadata": {},
   "outputs": [
    {
     "data": {
      "image/png": "[encoded data removed]",
      "text/plain": [
       "<Figure size 2000x1000 with 1 Axes>"
      ]
     },
     "metadata": {},
     "output_type": "display_data"
    }
   ],
   "source": [
    "plt.figure(figsize=(20,10))\n",
    "plt.bar(total_departamentos_top_10.index,total_departamentos_top_10,color=\"green\")\n",
    "plt.show()"
   ]
  },
  {
   "cell_type": "markdown",
   "id": "4e3fcf29",
   "metadata": {},
   "source": [
    "realizando un analisis de barra con relacion a los departamentos mas beneficiados, podemos concluir que valle del cauca, antioquia, santander y cundinamarca son los mas beneficiados de los creditos icetex, curiosamente se pensaba al inicio que cundinamarca y la region capital seria los mayores pero nos llevamos una sorpresa con este grafico"
   ]
  },
  {
   "cell_type": "markdown",
   "id": "b1d9d494",
   "metadata": {},
   "source": [
    "## que niveles de educacion son los que financia el icetex? (tecnologo,tecnico,pregrado,posgrado etc)"
   ]
  },
  {
   "cell_type": "code",
   "execution_count": 154,
   "id": "102282cf",
   "metadata": {},
   "outputs": [
    {
     "data": {
      "text/plain": [
       "NIVEL DE FORMACIÓN\n",
       "Universitario                          82851\n",
       "Maestría                               15942\n",
       "Formación técnica profesional          11230\n",
       "Especialización universitaria          10808\n",
       "Tecnológico                            10446\n",
       "Educación continuada                    9257\n",
       "Especialización médico quirúrgica       2545\n",
       "Doctorado                               1376\n",
       "PASANTIA                                 112\n",
       "Especialización tecnológica               18\n",
       "Normalista                                 6\n",
       "Especialización técnico profesional        4\n",
       "Name: NIVEL DE FORMACIÓN, dtype: int64"
      ]
     },
     "execution_count": 154,
     "metadata": {},
     "output_type": "execute_result"
    }
   ],
   "source": [
    "niveles_de_educacion=data_relevante.groupby(\"NIVEL DE FORMACIÓN\")[\"NIVEL DE FORMACIÓN\"].count()\n",
    "niveles_de_educacion.sort_values(ascending=False)"
   ]
  },
  {
   "cell_type": "code",
   "execution_count": 155,
   "id": "c7dcac4b",
   "metadata": {},
   "outputs": [
    {
     "data": {
      "image/png": "[encoded data removed]",
      "text/plain": [
       "<Figure size 2000x1500 with 1 Axes>"
      ]
     },
     "metadata": {},
     "output_type": "display_data"
    }
   ],
   "source": [
    "fig,ax=plt.subplots(figsize=(20,15))\n",
    "ax.pie(niveles_de_educacion,labels=niveles_de_educacion.index,startangle=90,autopct='%1.1f%%')\n",
    "plt.show()"
   ]
  },
  {
   "cell_type": "code",
   "execution_count": 156,
   "id": "9ce74415",
   "metadata": {},
   "outputs": [
    {
     "data": {
      "text/html": [
       "<div>\n",
       "<style scoped>\n",
       "    .dataframe tbody tr th:only-of-type {\n",
       "        vertical-align: middle;\n",
       "    }\n",
       "\n",
       "    .dataframe tbody tr th {\n",
       "        vertical-align: top;\n",
       "    }\n",
       "\n",
       "    .dataframe thead th {\n",
       "        text-align: right;\n",
       "    }\n",
       "</style>\n",
       "<table border=\"1\" class=\"dataframe\">\n",
       "  <thead>\n",
       "    <tr style=\"text-align: right;\">\n",
       "      <th></th>\n",
       "      <th>NIVEL DE FORMACIÓN</th>\n",
       "    </tr>\n",
       "    <tr>\n",
       "      <th>NIVEL DE FORMACIÓN</th>\n",
       "      <th></th>\n",
       "    </tr>\n",
       "  </thead>\n",
       "  <tbody>\n",
       "    <tr>\n",
       "      <th>Doctorado</th>\n",
       "      <td>1376</td>\n",
       "    </tr>\n",
       "    <tr>\n",
       "      <th>Educación continuada</th>\n",
       "      <td>9257</td>\n",
       "    </tr>\n",
       "    <tr>\n",
       "      <th>Especialización médico quirúrgica</th>\n",
       "      <td>2545</td>\n",
       "    </tr>\n",
       "    <tr>\n",
       "      <th>Especialización tecnológica</th>\n",
       "      <td>18</td>\n",
       "    </tr>\n",
       "    <tr>\n",
       "      <th>Especialización técnico profesional</th>\n",
       "      <td>4</td>\n",
       "    </tr>\n",
       "    <tr>\n",
       "      <th>Especialización universitaria</th>\n",
       "      <td>10808</td>\n",
       "    </tr>\n",
       "    <tr>\n",
       "      <th>Formación técnica profesional</th>\n",
       "      <td>11230</td>\n",
       "    </tr>\n",
       "    <tr>\n",
       "      <th>Maestría</th>\n",
       "      <td>15942</td>\n",
       "    </tr>\n",
       "    <tr>\n",
       "      <th>Normalista</th>\n",
       "      <td>6</td>\n",
       "    </tr>\n",
       "    <tr>\n",
       "      <th>PASANTIA</th>\n",
       "      <td>112</td>\n",
       "    </tr>\n",
       "    <tr>\n",
       "      <th>Tecnológico</th>\n",
       "      <td>10446</td>\n",
       "    </tr>\n",
       "    <tr>\n",
       "      <th>Universitario</th>\n",
       "      <td>82851</td>\n",
       "    </tr>\n",
       "  </tbody>\n",
       "</table>\n",
       "</div>"
      ],
      "text/plain": [
       "                                     NIVEL DE FORMACIÓN\n",
       "NIVEL DE FORMACIÓN                                     \n",
       "Doctorado                                          1376\n",
       "Educación continuada                               9257\n",
       "Especialización médico quirúrgica                  2545\n",
       "Especialización tecnológica                          18\n",
       "Especialización técnico profesional                   4\n",
       "Especialización universitaria                     10808\n",
       "Formación técnica profesional                     11230\n",
       "Maestría                                          15942\n",
       "Normalista                                            6\n",
       "PASANTIA                                            112\n",
       "Tecnológico                                       10446\n",
       "Universitario                                     82851"
      ]
     },
     "execution_count": 156,
     "metadata": {},
     "output_type": "execute_result"
    }
   ],
   "source": [
    "# creemos una tabla con los porcentajes para ser mas detallistas\n",
    "\n",
    "data=pd.DataFrame(niveles_de_educacion)\n",
    "data"
   ]
  },
  {
   "cell_type": "code",
   "execution_count": 157,
   "id": "a44bab33",
   "metadata": {},
   "outputs": [
    {
     "data": {
      "text/plain": [
       "144595"
      ]
     },
     "execution_count": 157,
     "metadata": {},
     "output_type": "execute_result"
    }
   ],
   "source": [
    "# obtenemos el total general de los valores\n",
    "total_general=data[\"NIVEL DE FORMACIÓN\"].sum()\n",
    "total_general"
   ]
  },
  {
   "cell_type": "code",
   "execution_count": 158,
   "id": "34c6c08c",
   "metadata": {},
   "outputs": [],
   "source": [
    "# aplicamos para sacar los pesos de cada renglon\n",
    "data[\"Porcentaje de participacion\"]=(data[\"NIVEL DE FORMACIÓN\"]/total_general)*100"
   ]
  },
  {
   "cell_type": "code",
   "execution_count": 159,
   "id": "f2f26289",
   "metadata": {},
   "outputs": [
    {
     "data": {
      "text/html": [
       "<div>\n",
       "<style scoped>\n",
       "    .dataframe tbody tr th:only-of-type {\n",
       "        vertical-align: middle;\n",
       "    }\n",
       "\n",
       "    .dataframe tbody tr th {\n",
       "        vertical-align: top;\n",
       "    }\n",
       "\n",
       "    .dataframe thead th {\n",
       "        text-align: right;\n",
       "    }\n",
       "</style>\n",
       "<table border=\"1\" class=\"dataframe\">\n",
       "  <thead>\n",
       "    <tr style=\"text-align: right;\">\n",
       "      <th></th>\n",
       "      <th>NIVEL DE FORMACIÓN</th>\n",
       "      <th>Porcentaje de participacion</th>\n",
       "    </tr>\n",
       "    <tr>\n",
       "      <th>NIVEL DE FORMACIÓN</th>\n",
       "      <th></th>\n",
       "      <th></th>\n",
       "    </tr>\n",
       "  </thead>\n",
       "  <tbody>\n",
       "    <tr>\n",
       "      <th>Universitario</th>\n",
       "      <td>82851</td>\n",
       "      <td>57.298662</td>\n",
       "    </tr>\n",
       "    <tr>\n",
       "      <th>Maestría</th>\n",
       "      <td>15942</td>\n",
       "      <td>11.025277</td>\n",
       "    </tr>\n",
       "    <tr>\n",
       "      <th>Formación técnica profesional</th>\n",
       "      <td>11230</td>\n",
       "      <td>7.766520</td>\n",
       "    </tr>\n",
       "    <tr>\n",
       "      <th>Especialización universitaria</th>\n",
       "      <td>10808</td>\n",
       "      <td>7.474671</td>\n",
       "    </tr>\n",
       "    <tr>\n",
       "      <th>Tecnológico</th>\n",
       "      <td>10446</td>\n",
       "      <td>7.224316</td>\n",
       "    </tr>\n",
       "    <tr>\n",
       "      <th>Educación continuada</th>\n",
       "      <td>9257</td>\n",
       "      <td>6.402019</td>\n",
       "    </tr>\n",
       "    <tr>\n",
       "      <th>Especialización médico quirúrgica</th>\n",
       "      <td>2545</td>\n",
       "      <td>1.760089</td>\n",
       "    </tr>\n",
       "    <tr>\n",
       "      <th>Doctorado</th>\n",
       "      <td>1376</td>\n",
       "      <td>0.951624</td>\n",
       "    </tr>\n",
       "    <tr>\n",
       "      <th>PASANTIA</th>\n",
       "      <td>112</td>\n",
       "      <td>0.077458</td>\n",
       "    </tr>\n",
       "    <tr>\n",
       "      <th>Especialización tecnológica</th>\n",
       "      <td>18</td>\n",
       "      <td>0.012449</td>\n",
       "    </tr>\n",
       "    <tr>\n",
       "      <th>Normalista</th>\n",
       "      <td>6</td>\n",
       "      <td>0.004150</td>\n",
       "    </tr>\n",
       "    <tr>\n",
       "      <th>Especialización técnico profesional</th>\n",
       "      <td>4</td>\n",
       "      <td>0.002766</td>\n",
       "    </tr>\n",
       "  </tbody>\n",
       "</table>\n",
       "</div>"
      ],
      "text/plain": [
       "                                     NIVEL DE FORMACIÓN  \\\n",
       "NIVEL DE FORMACIÓN                                        \n",
       "Universitario                                     82851   \n",
       "Maestría                                          15942   \n",
       "Formación técnica profesional                     11230   \n",
       "Especialización universitaria                     10808   \n",
       "Tecnológico                                       10446   \n",
       "Educación continuada                               9257   \n",
       "Especialización médico quirúrgica                  2545   \n",
       "Doctorado                                          1376   \n",
       "PASANTIA                                            112   \n",
       "Especialización tecnológica                          18   \n",
       "Normalista                                            6   \n",
       "Especialización técnico profesional                   4   \n",
       "\n",
       "                                     Porcentaje de participacion  \n",
       "NIVEL DE FORMACIÓN                                                \n",
       "Universitario                                          57.298662  \n",
       "Maestría                                               11.025277  \n",
       "Formación técnica profesional                           7.766520  \n",
       "Especialización universitaria                           7.474671  \n",
       "Tecnológico                                             7.224316  \n",
       "Educación continuada                                    6.402019  \n",
       "Especialización médico quirúrgica                       1.760089  \n",
       "Doctorado                                               0.951624  \n",
       "PASANTIA                                                0.077458  \n",
       "Especialización tecnológica                             0.012449  \n",
       "Normalista                                              0.004150  \n",
       "Especialización técnico profesional                     0.002766  "
      ]
     },
     "execution_count": 159,
     "metadata": {},
     "output_type": "execute_result"
    }
   ],
   "source": [
    "data.sort_values(\"Porcentaje de participacion\",ascending=False)"
   ]
  },
  {
   "cell_type": "markdown",
   "id": "0f7173ba",
   "metadata": {},
   "source": [
    "podemos ver en resumen que el nivel universitario, representa el 57.29% del total de creditos adquiridos, luego sigue las maestrias y las formaciones de tecnico profesional.\n",
    "\n",
    "Esto nos deja varias cosas claras, que el icetex financia en una buena medida a las profesiones como tal, pero tiene baja financiacion en los niveles de formacion mas directos como son los tecnicos y tecnologicos. Esto tambien sopone que en este periodo hubo una oferta considerable de profesionales graduados, pero muy pocos profesionales con nivel de posgrado."
   ]
  },
  {
   "cell_type": "code",
   "execution_count": 45,
   "id": "3a4b95e8",
   "metadata": {},
   "outputs": [],
   "source": [
    "## tambien podemos colocar cierto estilo al df usando styler de pandas\n",
    "\n",
    "# establecemos el  tope, en este caso deseo que me marque todo lo mayor a 35%\n",
    "tope=35\n",
    "\n",
    "# creamos una funcion para aplicar este tope\n",
    "\n",
    "def filtro(valor):\n",
    "    if valor>35:\n",
    "        return 'background-color: red'\n",
    "    else:\n",
    "        return 'background-color: yellow'\n",
    "    \n",
    "# aplicamos el formato con styler\n",
    "\n",
    "styled_data=data.style.applymap(filtro,subset=[\"Porcentaje de participacion\"])"
   ]
  },
  {
   "cell_type": "code",
   "execution_count": 46,
   "id": "b72030fa",
   "metadata": {},
   "outputs": [
    {
     "data": {
      "text/html": [
       "<style type=\"text/css\">\n",
       "#T_ee8c6_row0_col1, #T_ee8c6_row1_col1, #T_ee8c6_row2_col1, #T_ee8c6_row3_col1, #T_ee8c6_row4_col1, #T_ee8c6_row5_col1, #T_ee8c6_row6_col1, #T_ee8c6_row7_col1, #T_ee8c6_row8_col1, #T_ee8c6_row9_col1, #T_ee8c6_row10_col1, #T_ee8c6_row11_col1, #T_ee8c6_row12_col1 {\n",
       "  background-color: yellow;\n",
       "}\n",
       "#T_ee8c6_row13_col1 {\n",
       "  background-color: red;\n",
       "}\n",
       "</style>\n",
       "<table id=\"T_ee8c6\">\n",
       "  <thead>\n",
       "    <tr>\n",
       "      <th class=\"blank level0\" >&nbsp;</th>\n",
       "      <th id=\"T_ee8c6_level0_col0\" class=\"col_heading level0 col0\" >NIVEL DE FORMACIÓN</th>\n",
       "      <th id=\"T_ee8c6_level0_col1\" class=\"col_heading level0 col1\" >Porcentaje de participacion</th>\n",
       "    </tr>\n",
       "    <tr>\n",
       "      <th class=\"index_name level0\" >NIVEL DE FORMACIÓN</th>\n",
       "      <th class=\"blank col0\" >&nbsp;</th>\n",
       "      <th class=\"blank col1\" >&nbsp;</th>\n",
       "    </tr>\n",
       "  </thead>\n",
       "  <tbody>\n",
       "    <tr>\n",
       "      <th id=\"T_ee8c6_level0_row0\" class=\"row_heading level0 row0\" >Doctorado</th>\n",
       "      <td id=\"T_ee8c6_row0_col0\" class=\"data row0 col0\" >1376</td>\n",
       "      <td id=\"T_ee8c6_row0_col1\" class=\"data row0 col1\" >0.951624</td>\n",
       "    </tr>\n",
       "    <tr>\n",
       "      <th id=\"T_ee8c6_level0_row1\" class=\"row_heading level0 row1\" >EDUCACION CONTINUADA</th>\n",
       "      <td id=\"T_ee8c6_row1_col0\" class=\"data row1 col0\" >3290</td>\n",
       "      <td id=\"T_ee8c6_row1_col1\" class=\"data row1 col1\" >2.275321</td>\n",
       "    </tr>\n",
       "    <tr>\n",
       "      <th id=\"T_ee8c6_level0_row2\" class=\"row_heading level0 row2\" >ESPECIALIZACION TECNICO PROFESIONAL</th>\n",
       "      <td id=\"T_ee8c6_row2_col0\" class=\"data row2 col0\" >4</td>\n",
       "      <td id=\"T_ee8c6_row2_col1\" class=\"data row2 col1\" >0.002766</td>\n",
       "    </tr>\n",
       "    <tr>\n",
       "      <th id=\"T_ee8c6_level0_row3\" class=\"row_heading level0 row3\" >Educación continuada</th>\n",
       "      <td id=\"T_ee8c6_row3_col0\" class=\"data row3 col0\" >5967</td>\n",
       "      <td id=\"T_ee8c6_row3_col1\" class=\"data row3 col1\" >4.126699</td>\n",
       "    </tr>\n",
       "    <tr>\n",
       "      <th id=\"T_ee8c6_level0_row4\" class=\"row_heading level0 row4\" >Especialización médico quirúrgica</th>\n",
       "      <td id=\"T_ee8c6_row4_col0\" class=\"data row4 col0\" >2545</td>\n",
       "      <td id=\"T_ee8c6_row4_col1\" class=\"data row4 col1\" >1.760089</td>\n",
       "    </tr>\n",
       "    <tr>\n",
       "      <th id=\"T_ee8c6_level0_row5\" class=\"row_heading level0 row5\" >Especialización tecnológica</th>\n",
       "      <td id=\"T_ee8c6_row5_col0\" class=\"data row5 col0\" >18</td>\n",
       "      <td id=\"T_ee8c6_row5_col1\" class=\"data row5 col1\" >0.012449</td>\n",
       "    </tr>\n",
       "    <tr>\n",
       "      <th id=\"T_ee8c6_level0_row6\" class=\"row_heading level0 row6\" >Especialización técnico profesional</th>\n",
       "      <td id=\"T_ee8c6_row6_col0\" class=\"data row6 col0\" >4</td>\n",
       "      <td id=\"T_ee8c6_row6_col1\" class=\"data row6 col1\" >0.002766</td>\n",
       "    </tr>\n",
       "    <tr>\n",
       "      <th id=\"T_ee8c6_level0_row7\" class=\"row_heading level0 row7\" >Especialización universitaria</th>\n",
       "      <td id=\"T_ee8c6_row7_col0\" class=\"data row7 col0\" >10808</td>\n",
       "      <td id=\"T_ee8c6_row7_col1\" class=\"data row7 col1\" >7.474671</td>\n",
       "    </tr>\n",
       "    <tr>\n",
       "      <th id=\"T_ee8c6_level0_row8\" class=\"row_heading level0 row8\" >Formación técnica profesional</th>\n",
       "      <td id=\"T_ee8c6_row8_col0\" class=\"data row8 col0\" >11226</td>\n",
       "      <td id=\"T_ee8c6_row8_col1\" class=\"data row8 col1\" >7.763754</td>\n",
       "    </tr>\n",
       "    <tr>\n",
       "      <th id=\"T_ee8c6_level0_row9\" class=\"row_heading level0 row9\" >Maestría</th>\n",
       "      <td id=\"T_ee8c6_row9_col0\" class=\"data row9 col0\" >15942</td>\n",
       "      <td id=\"T_ee8c6_row9_col1\" class=\"data row9 col1\" >11.025277</td>\n",
       "    </tr>\n",
       "    <tr>\n",
       "      <th id=\"T_ee8c6_level0_row10\" class=\"row_heading level0 row10\" >Normalista</th>\n",
       "      <td id=\"T_ee8c6_row10_col0\" class=\"data row10 col0\" >6</td>\n",
       "      <td id=\"T_ee8c6_row10_col1\" class=\"data row10 col1\" >0.004150</td>\n",
       "    </tr>\n",
       "    <tr>\n",
       "      <th id=\"T_ee8c6_level0_row11\" class=\"row_heading level0 row11\" >PASANTIA</th>\n",
       "      <td id=\"T_ee8c6_row11_col0\" class=\"data row11 col0\" >112</td>\n",
       "      <td id=\"T_ee8c6_row11_col1\" class=\"data row11 col1\" >0.077458</td>\n",
       "    </tr>\n",
       "    <tr>\n",
       "      <th id=\"T_ee8c6_level0_row12\" class=\"row_heading level0 row12\" >Tecnológico</th>\n",
       "      <td id=\"T_ee8c6_row12_col0\" class=\"data row12 col0\" >10446</td>\n",
       "      <td id=\"T_ee8c6_row12_col1\" class=\"data row12 col1\" >7.224316</td>\n",
       "    </tr>\n",
       "    <tr>\n",
       "      <th id=\"T_ee8c6_level0_row13\" class=\"row_heading level0 row13\" >Universitario</th>\n",
       "      <td id=\"T_ee8c6_row13_col0\" class=\"data row13 col0\" >82851</td>\n",
       "      <td id=\"T_ee8c6_row13_col1\" class=\"data row13 col1\" >57.298662</td>\n",
       "    </tr>\n",
       "  </tbody>\n",
       "</table>\n"
      ],
      "text/plain": [
       "<pandas.io.formats.style.Styler at 0x248c7d879d0>"
      ]
     },
     "execution_count": 46,
     "metadata": {},
     "output_type": "execute_result"
    }
   ],
   "source": [
    "styled_data # df con styler "
   ]
  },
  {
   "cell_type": "markdown",
   "id": "97245ad5",
   "metadata": {},
   "source": [
    "## cuales son las modalidades de credito mas usadas?\n"
   ]
  },
  {
   "cell_type": "code",
   "execution_count": 47,
   "id": "e15d943e",
   "metadata": {},
   "outputs": [
    {
     "data": {
      "text/plain": [
       "MODALIDAD DEL CRÉDITO\n",
       "MATRICULA        128639\n",
       "MI PC               346\n",
       "SOSTENIMIENTO     15610\n",
       "Name: MODALIDAD DEL CRÉDITO, dtype: int64"
      ]
     },
     "execution_count": 47,
     "metadata": {},
     "output_type": "execute_result"
    }
   ],
   "source": [
    "modalidades=data_relevante.groupby(\"MODALIDAD DEL CRÉDITO\")[\"MODALIDAD DEL CRÉDITO\"].count()\n",
    "modalidades"
   ]
  },
  {
   "cell_type": "code",
   "execution_count": 48,
   "id": "32ffeb80",
   "metadata": {},
   "outputs": [
    {
     "data": {
      "image/png": "[encoded data removed]",
      "text/plain": [
       "<Figure size 1000x1000 with 1 Axes>"
      ]
     },
     "metadata": {},
     "output_type": "display_data"
    }
   ],
   "source": [
    "fig,ax=plt.subplots(figsize=(10,10))\n",
    "ax.pie(modalidades,labels=modalidades.index,autopct='%1.1f%%')\n",
    "plt.show()"
   ]
  },
  {
   "cell_type": "markdown",
   "id": "67c573dc",
   "metadata": {},
   "source": [
    "con un 89% las modalidades de matricula tienen mayor impacto en esta muestra, le sigue sostenimiento y finalmente mi pc. Esto nos deja claro que el icetex financia sobre todo acceso a la educacion y tiene sentido si analizamos primera grafica ya que, parte de la poblacion beneficiada por el icetex es estratos 1 y 2."
   ]
  },
  {
   "cell_type": "markdown",
   "id": "db9039c3",
   "metadata": {},
   "source": [
    "cuales son los sexos que mas recursos del icetex recibe? existe alguna relacion entre sexo y beneficio?"
   ]
  },
  {
   "cell_type": "code",
   "execution_count": 49,
   "id": "75453c24",
   "metadata": {},
   "outputs": [],
   "source": [
    "# definimos un df donde se muestre el sexo y el beneficio en este caso la data mas cercana a beneficio es modalidad de credito"
   ]
  },
  {
   "cell_type": "code",
   "execution_count": 50,
   "id": "5ffac46d",
   "metadata": {},
   "outputs": [],
   "source": [
    "relaciones=data_relevante[[\"SEXO\",\"MODALIDAD DEL CRÉDITO\"]]"
   ]
  },
  {
   "cell_type": "code",
   "execution_count": 51,
   "id": "abbc1a38",
   "metadata": {},
   "outputs": [
    {
     "data": {
      "text/html": [
       "<div>\n",
       "<style scoped>\n",
       "    .dataframe tbody tr th:only-of-type {\n",
       "        vertical-align: middle;\n",
       "    }\n",
       "\n",
       "    .dataframe tbody tr th {\n",
       "        vertical-align: top;\n",
       "    }\n",
       "\n",
       "    .dataframe thead th {\n",
       "        text-align: right;\n",
       "    }\n",
       "</style>\n",
       "<table border=\"1\" class=\"dataframe\">\n",
       "  <thead>\n",
       "    <tr style=\"text-align: right;\">\n",
       "      <th></th>\n",
       "      <th>SEXO</th>\n",
       "      <th>MODALIDAD DEL CRÉDITO</th>\n",
       "    </tr>\n",
       "  </thead>\n",
       "  <tbody>\n",
       "    <tr>\n",
       "      <th>0</th>\n",
       "      <td>Femenino</td>\n",
       "      <td>MATRICULA</td>\n",
       "    </tr>\n",
       "    <tr>\n",
       "      <th>1</th>\n",
       "      <td>Femenino</td>\n",
       "      <td>MATRICULA</td>\n",
       "    </tr>\n",
       "    <tr>\n",
       "      <th>2</th>\n",
       "      <td>Femenino</td>\n",
       "      <td>MATRICULA</td>\n",
       "    </tr>\n",
       "    <tr>\n",
       "      <th>3</th>\n",
       "      <td>Femenino</td>\n",
       "      <td>SOSTENIMIENTO</td>\n",
       "    </tr>\n",
       "    <tr>\n",
       "      <th>4</th>\n",
       "      <td>Femenino</td>\n",
       "      <td>MATRICULA</td>\n",
       "    </tr>\n",
       "    <tr>\n",
       "      <th>...</th>\n",
       "      <td>...</td>\n",
       "      <td>...</td>\n",
       "    </tr>\n",
       "    <tr>\n",
       "      <th>144590</th>\n",
       "      <td>Masculino</td>\n",
       "      <td>MATRICULA</td>\n",
       "    </tr>\n",
       "    <tr>\n",
       "      <th>144591</th>\n",
       "      <td>Masculino</td>\n",
       "      <td>MATRICULA</td>\n",
       "    </tr>\n",
       "    <tr>\n",
       "      <th>144592</th>\n",
       "      <td>Masculino</td>\n",
       "      <td>MATRICULA</td>\n",
       "    </tr>\n",
       "    <tr>\n",
       "      <th>144593</th>\n",
       "      <td>Masculino</td>\n",
       "      <td>MATRICULA</td>\n",
       "    </tr>\n",
       "    <tr>\n",
       "      <th>144594</th>\n",
       "      <td>Masculino</td>\n",
       "      <td>MATRICULA</td>\n",
       "    </tr>\n",
       "  </tbody>\n",
       "</table>\n",
       "<p>144595 rows × 2 columns</p>\n",
       "</div>"
      ],
      "text/plain": [
       "             SEXO MODALIDAD DEL CRÉDITO\n",
       "0        Femenino             MATRICULA\n",
       "1        Femenino             MATRICULA\n",
       "2        Femenino             MATRICULA\n",
       "3        Femenino         SOSTENIMIENTO\n",
       "4        Femenino             MATRICULA\n",
       "...           ...                   ...\n",
       "144590  Masculino             MATRICULA\n",
       "144591  Masculino             MATRICULA\n",
       "144592  Masculino             MATRICULA\n",
       "144593  Masculino             MATRICULA\n",
       "144594  Masculino             MATRICULA\n",
       "\n",
       "[144595 rows x 2 columns]"
      ]
     },
     "execution_count": 51,
     "metadata": {},
     "output_type": "execute_result"
    }
   ],
   "source": [
    "relaciones"
   ]
  },
  {
   "cell_type": "code",
   "execution_count": 52,
   "id": "287ccab1",
   "metadata": {},
   "outputs": [],
   "source": [
    "# vamos ahora a agrupar por sexo y que nos muestre las distintas modalidades por cantidad"
   ]
  },
  {
   "cell_type": "code",
   "execution_count": 53,
   "id": "a2ee97e6",
   "metadata": {},
   "outputs": [],
   "source": [
    "data_relaciones=relaciones.groupby([\"SEXO\",\"MODALIDAD DEL CRÉDITO\"])[\"MODALIDAD DEL CRÉDITO\"].count()"
   ]
  },
  {
   "cell_type": "code",
   "execution_count": 54,
   "id": "b1d672b4",
   "metadata": {
    "scrolled": true
   },
   "outputs": [
    {
     "data": {
      "text/plain": [
       "SEXO         MODALIDAD DEL CRÉDITO\n",
       "Femenino     MATRICULA                66233\n",
       "             MI PC                      160\n",
       "             SOSTENIMIENTO             7563\n",
       "Intersexual  MATRICULA                    2\n",
       "Masculino    MATRICULA                62404\n",
       "             MI PC                      186\n",
       "             SOSTENIMIENTO             8047\n",
       "Name: MODALIDAD DEL CRÉDITO, dtype: int64"
      ]
     },
     "execution_count": 54,
     "metadata": {},
     "output_type": "execute_result"
    }
   ],
   "source": [
    "data_relaciones # ya tenemos las agrupaciones por groub by pero estan como serie, debemos transformarla como df para trabajar mejor\n",
    "# la informacion"
   ]
  },
  {
   "cell_type": "code",
   "execution_count": 55,
   "id": "f07de21f",
   "metadata": {},
   "outputs": [],
   "source": [
    "# debido a que el group by esta agrupando, para poder dejar la informacion en fila ordenadamente debemos usar el metodo unstack\n",
    "# que convierte la serie agrupada en una matriz cuadrada en filas\n",
    "df_relaciones=data_relaciones.unstack().reset_index().fillna(0)\n",
    "# despues reseteamos la columna indice para que nos salga una columna de indice y finalmente el metodo fillna para reemplazar valores\n",
    "# NaN "
   ]
  },
  {
   "cell_type": "code",
   "execution_count": 56,
   "id": "acf71c7b",
   "metadata": {},
   "outputs": [
    {
     "data": {
      "text/html": [
       "<div>\n",
       "<style scoped>\n",
       "    .dataframe tbody tr th:only-of-type {\n",
       "        vertical-align: middle;\n",
       "    }\n",
       "\n",
       "    .dataframe tbody tr th {\n",
       "        vertical-align: top;\n",
       "    }\n",
       "\n",
       "    .dataframe thead th {\n",
       "        text-align: right;\n",
       "    }\n",
       "</style>\n",
       "<table border=\"1\" class=\"dataframe\">\n",
       "  <thead>\n",
       "    <tr style=\"text-align: right;\">\n",
       "      <th>MODALIDAD DEL CRÉDITO</th>\n",
       "      <th>SEXO</th>\n",
       "      <th>MATRICULA</th>\n",
       "      <th>MI PC</th>\n",
       "      <th>SOSTENIMIENTO</th>\n",
       "    </tr>\n",
       "  </thead>\n",
       "  <tbody>\n",
       "    <tr>\n",
       "      <th>0</th>\n",
       "      <td>Femenino</td>\n",
       "      <td>66233.0</td>\n",
       "      <td>160.0</td>\n",
       "      <td>7563.0</td>\n",
       "    </tr>\n",
       "    <tr>\n",
       "      <th>1</th>\n",
       "      <td>Intersexual</td>\n",
       "      <td>2.0</td>\n",
       "      <td>0.0</td>\n",
       "      <td>0.0</td>\n",
       "    </tr>\n",
       "    <tr>\n",
       "      <th>2</th>\n",
       "      <td>Masculino</td>\n",
       "      <td>62404.0</td>\n",
       "      <td>186.0</td>\n",
       "      <td>8047.0</td>\n",
       "    </tr>\n",
       "  </tbody>\n",
       "</table>\n",
       "</div>"
      ],
      "text/plain": [
       "MODALIDAD DEL CRÉDITO         SEXO  MATRICULA  MI PC  SOSTENIMIENTO\n",
       "0                         Femenino    66233.0  160.0         7563.0\n",
       "1                      Intersexual        2.0    0.0            0.0\n",
       "2                        Masculino    62404.0  186.0         8047.0"
      ]
     },
     "execution_count": 56,
     "metadata": {},
     "output_type": "execute_result"
    }
   ],
   "source": [
    "df_relaciones # este es el preliminar ahora corregido"
   ]
  },
  {
   "cell_type": "code",
   "execution_count": 57,
   "id": "9f7cce77",
   "metadata": {},
   "outputs": [
    {
     "data": {
      "text/plain": [
       "Index(['SEXO', 'MATRICULA', 'MI PC', 'SOSTENIMIENTO'], dtype='object', name='MODALIDAD DEL CRÉDITO')"
      ]
     },
     "execution_count": 57,
     "metadata": {},
     "output_type": "execute_result"
    }
   ],
   "source": [
    "df_relaciones.columns"
   ]
  },
  {
   "cell_type": "code",
   "execution_count": 58,
   "id": "ec714ef2",
   "metadata": {},
   "outputs": [],
   "source": [
    "# cambiamos el nombre de la columna indice para evitar confusiones\n",
    "\n",
    "df_relaciones.index.name='Indice'"
   ]
  },
  {
   "cell_type": "code",
   "execution_count": 59,
   "id": "154506f8",
   "metadata": {},
   "outputs": [
    {
     "data": {
      "text/html": [
       "<div>\n",
       "<style scoped>\n",
       "    .dataframe tbody tr th:only-of-type {\n",
       "        vertical-align: middle;\n",
       "    }\n",
       "\n",
       "    .dataframe tbody tr th {\n",
       "        vertical-align: top;\n",
       "    }\n",
       "\n",
       "    .dataframe thead th {\n",
       "        text-align: right;\n",
       "    }\n",
       "</style>\n",
       "<table border=\"1\" class=\"dataframe\">\n",
       "  <thead>\n",
       "    <tr style=\"text-align: right;\">\n",
       "      <th>MODALIDAD DEL CRÉDITO</th>\n",
       "      <th>SEXO</th>\n",
       "      <th>MATRICULA</th>\n",
       "      <th>MI PC</th>\n",
       "      <th>SOSTENIMIENTO</th>\n",
       "    </tr>\n",
       "    <tr>\n",
       "      <th>Indice</th>\n",
       "      <th></th>\n",
       "      <th></th>\n",
       "      <th></th>\n",
       "      <th></th>\n",
       "    </tr>\n",
       "  </thead>\n",
       "  <tbody>\n",
       "    <tr>\n",
       "      <th>0</th>\n",
       "      <td>Femenino</td>\n",
       "      <td>66233.0</td>\n",
       "      <td>160.0</td>\n",
       "      <td>7563.0</td>\n",
       "    </tr>\n",
       "    <tr>\n",
       "      <th>1</th>\n",
       "      <td>Intersexual</td>\n",
       "      <td>2.0</td>\n",
       "      <td>0.0</td>\n",
       "      <td>0.0</td>\n",
       "    </tr>\n",
       "    <tr>\n",
       "      <th>2</th>\n",
       "      <td>Masculino</td>\n",
       "      <td>62404.0</td>\n",
       "      <td>186.0</td>\n",
       "      <td>8047.0</td>\n",
       "    </tr>\n",
       "  </tbody>\n",
       "</table>\n",
       "</div>"
      ],
      "text/plain": [
       "MODALIDAD DEL CRÉDITO         SEXO  MATRICULA  MI PC  SOSTENIMIENTO\n",
       "Indice                                                             \n",
       "0                         Femenino    66233.0  160.0         7563.0\n",
       "1                      Intersexual        2.0    0.0            0.0\n",
       "2                        Masculino    62404.0  186.0         8047.0"
      ]
     },
     "execution_count": 59,
     "metadata": {},
     "output_type": "execute_result"
    }
   ],
   "source": [
    "df_relaciones"
   ]
  },
  {
   "cell_type": "markdown",
   "id": "72845340",
   "metadata": {},
   "source": [
    "finalmente tenemos la informacion consisa, en este caso las variables a revisar sera matricula, mi pc y sostenimiento."
   ]
  },
  {
   "cell_type": "code",
   "execution_count": 60,
   "id": "dd1e1484",
   "metadata": {},
   "outputs": [],
   "source": [
    "import statsmodels.api as sm"
   ]
  },
  {
   "cell_type": "code",
   "execution_count": 61,
   "id": "05013e89",
   "metadata": {},
   "outputs": [],
   "source": [
    "# creamos la variable dummy para modalidad del credito\n",
    "dummy_modalidad=pd.get_dummies(relaciones[\"MODALIDAD DEL CRÉDITO\"])\n",
    "dummy_sexo=pd.get_dummies(relaciones[\"SEXO\"])"
   ]
  },
  {
   "cell_type": "code",
   "execution_count": 62,
   "id": "d82ca76c",
   "metadata": {},
   "outputs": [
    {
     "data": {
      "text/html": [
       "<div>\n",
       "<style scoped>\n",
       "    .dataframe tbody tr th:only-of-type {\n",
       "        vertical-align: middle;\n",
       "    }\n",
       "\n",
       "    .dataframe tbody tr th {\n",
       "        vertical-align: top;\n",
       "    }\n",
       "\n",
       "    .dataframe thead th {\n",
       "        text-align: right;\n",
       "    }\n",
       "</style>\n",
       "<table border=\"1\" class=\"dataframe\">\n",
       "  <thead>\n",
       "    <tr style=\"text-align: right;\">\n",
       "      <th></th>\n",
       "      <th>Femenino</th>\n",
       "      <th>Intersexual</th>\n",
       "      <th>Masculino</th>\n",
       "    </tr>\n",
       "  </thead>\n",
       "  <tbody>\n",
       "    <tr>\n",
       "      <th>0</th>\n",
       "      <td>1</td>\n",
       "      <td>0</td>\n",
       "      <td>0</td>\n",
       "    </tr>\n",
       "    <tr>\n",
       "      <th>1</th>\n",
       "      <td>1</td>\n",
       "      <td>0</td>\n",
       "      <td>0</td>\n",
       "    </tr>\n",
       "    <tr>\n",
       "      <th>2</th>\n",
       "      <td>1</td>\n",
       "      <td>0</td>\n",
       "      <td>0</td>\n",
       "    </tr>\n",
       "    <tr>\n",
       "      <th>3</th>\n",
       "      <td>1</td>\n",
       "      <td>0</td>\n",
       "      <td>0</td>\n",
       "    </tr>\n",
       "    <tr>\n",
       "      <th>4</th>\n",
       "      <td>1</td>\n",
       "      <td>0</td>\n",
       "      <td>0</td>\n",
       "    </tr>\n",
       "    <tr>\n",
       "      <th>...</th>\n",
       "      <td>...</td>\n",
       "      <td>...</td>\n",
       "      <td>...</td>\n",
       "    </tr>\n",
       "    <tr>\n",
       "      <th>144590</th>\n",
       "      <td>0</td>\n",
       "      <td>0</td>\n",
       "      <td>1</td>\n",
       "    </tr>\n",
       "    <tr>\n",
       "      <th>144591</th>\n",
       "      <td>0</td>\n",
       "      <td>0</td>\n",
       "      <td>1</td>\n",
       "    </tr>\n",
       "    <tr>\n",
       "      <th>144592</th>\n",
       "      <td>0</td>\n",
       "      <td>0</td>\n",
       "      <td>1</td>\n",
       "    </tr>\n",
       "    <tr>\n",
       "      <th>144593</th>\n",
       "      <td>0</td>\n",
       "      <td>0</td>\n",
       "      <td>1</td>\n",
       "    </tr>\n",
       "    <tr>\n",
       "      <th>144594</th>\n",
       "      <td>0</td>\n",
       "      <td>0</td>\n",
       "      <td>1</td>\n",
       "    </tr>\n",
       "  </tbody>\n",
       "</table>\n",
       "<p>144595 rows × 3 columns</p>\n",
       "</div>"
      ],
      "text/plain": [
       "        Femenino  Intersexual  Masculino\n",
       "0              1            0          0\n",
       "1              1            0          0\n",
       "2              1            0          0\n",
       "3              1            0          0\n",
       "4              1            0          0\n",
       "...          ...          ...        ...\n",
       "144590         0            0          1\n",
       "144591         0            0          1\n",
       "144592         0            0          1\n",
       "144593         0            0          1\n",
       "144594         0            0          1\n",
       "\n",
       "[144595 rows x 3 columns]"
      ]
     },
     "execution_count": 62,
     "metadata": {},
     "output_type": "execute_result"
    }
   ],
   "source": [
    "dummy_sexo"
   ]
  },
  {
   "cell_type": "code",
   "execution_count": 63,
   "id": "d5175d6c",
   "metadata": {},
   "outputs": [],
   "source": [
    "# unimos las variables dummis obtenidas con el df principal \n",
    "df_with_dummies=pd.concat([relaciones,dummy_modalidad],axis=1)\n",
    "df_with_dummies=pd.concat([df_with_dummies,dummy_sexo],axis=1)"
   ]
  },
  {
   "cell_type": "code",
   "execution_count": 64,
   "id": "ce9d409c",
   "metadata": {},
   "outputs": [
    {
     "data": {
      "text/html": [
       "<div>\n",
       "<style scoped>\n",
       "    .dataframe tbody tr th:only-of-type {\n",
       "        vertical-align: middle;\n",
       "    }\n",
       "\n",
       "    .dataframe tbody tr th {\n",
       "        vertical-align: top;\n",
       "    }\n",
       "\n",
       "    .dataframe thead th {\n",
       "        text-align: right;\n",
       "    }\n",
       "</style>\n",
       "<table border=\"1\" class=\"dataframe\">\n",
       "  <thead>\n",
       "    <tr style=\"text-align: right;\">\n",
       "      <th></th>\n",
       "      <th>SEXO</th>\n",
       "      <th>MODALIDAD DEL CRÉDITO</th>\n",
       "      <th>MATRICULA</th>\n",
       "      <th>MI PC</th>\n",
       "      <th>SOSTENIMIENTO</th>\n",
       "      <th>Femenino</th>\n",
       "      <th>Intersexual</th>\n",
       "      <th>Masculino</th>\n",
       "    </tr>\n",
       "  </thead>\n",
       "  <tbody>\n",
       "    <tr>\n",
       "      <th>0</th>\n",
       "      <td>Femenino</td>\n",
       "      <td>MATRICULA</td>\n",
       "      <td>1</td>\n",
       "      <td>0</td>\n",
       "      <td>0</td>\n",
       "      <td>1</td>\n",
       "      <td>0</td>\n",
       "      <td>0</td>\n",
       "    </tr>\n",
       "    <tr>\n",
       "      <th>1</th>\n",
       "      <td>Femenino</td>\n",
       "      <td>MATRICULA</td>\n",
       "      <td>1</td>\n",
       "      <td>0</td>\n",
       "      <td>0</td>\n",
       "      <td>1</td>\n",
       "      <td>0</td>\n",
       "      <td>0</td>\n",
       "    </tr>\n",
       "    <tr>\n",
       "      <th>2</th>\n",
       "      <td>Femenino</td>\n",
       "      <td>MATRICULA</td>\n",
       "      <td>1</td>\n",
       "      <td>0</td>\n",
       "      <td>0</td>\n",
       "      <td>1</td>\n",
       "      <td>0</td>\n",
       "      <td>0</td>\n",
       "    </tr>\n",
       "    <tr>\n",
       "      <th>3</th>\n",
       "      <td>Femenino</td>\n",
       "      <td>SOSTENIMIENTO</td>\n",
       "      <td>0</td>\n",
       "      <td>0</td>\n",
       "      <td>1</td>\n",
       "      <td>1</td>\n",
       "      <td>0</td>\n",
       "      <td>0</td>\n",
       "    </tr>\n",
       "    <tr>\n",
       "      <th>4</th>\n",
       "      <td>Femenino</td>\n",
       "      <td>MATRICULA</td>\n",
       "      <td>1</td>\n",
       "      <td>0</td>\n",
       "      <td>0</td>\n",
       "      <td>1</td>\n",
       "      <td>0</td>\n",
       "      <td>0</td>\n",
       "    </tr>\n",
       "    <tr>\n",
       "      <th>...</th>\n",
       "      <td>...</td>\n",
       "      <td>...</td>\n",
       "      <td>...</td>\n",
       "      <td>...</td>\n",
       "      <td>...</td>\n",
       "      <td>...</td>\n",
       "      <td>...</td>\n",
       "      <td>...</td>\n",
       "    </tr>\n",
       "    <tr>\n",
       "      <th>144590</th>\n",
       "      <td>Masculino</td>\n",
       "      <td>MATRICULA</td>\n",
       "      <td>1</td>\n",
       "      <td>0</td>\n",
       "      <td>0</td>\n",
       "      <td>0</td>\n",
       "      <td>0</td>\n",
       "      <td>1</td>\n",
       "    </tr>\n",
       "    <tr>\n",
       "      <th>144591</th>\n",
       "      <td>Masculino</td>\n",
       "      <td>MATRICULA</td>\n",
       "      <td>1</td>\n",
       "      <td>0</td>\n",
       "      <td>0</td>\n",
       "      <td>0</td>\n",
       "      <td>0</td>\n",
       "      <td>1</td>\n",
       "    </tr>\n",
       "    <tr>\n",
       "      <th>144592</th>\n",
       "      <td>Masculino</td>\n",
       "      <td>MATRICULA</td>\n",
       "      <td>1</td>\n",
       "      <td>0</td>\n",
       "      <td>0</td>\n",
       "      <td>0</td>\n",
       "      <td>0</td>\n",
       "      <td>1</td>\n",
       "    </tr>\n",
       "    <tr>\n",
       "      <th>144593</th>\n",
       "      <td>Masculino</td>\n",
       "      <td>MATRICULA</td>\n",
       "      <td>1</td>\n",
       "      <td>0</td>\n",
       "      <td>0</td>\n",
       "      <td>0</td>\n",
       "      <td>0</td>\n",
       "      <td>1</td>\n",
       "    </tr>\n",
       "    <tr>\n",
       "      <th>144594</th>\n",
       "      <td>Masculino</td>\n",
       "      <td>MATRICULA</td>\n",
       "      <td>1</td>\n",
       "      <td>0</td>\n",
       "      <td>0</td>\n",
       "      <td>0</td>\n",
       "      <td>0</td>\n",
       "      <td>1</td>\n",
       "    </tr>\n",
       "  </tbody>\n",
       "</table>\n",
       "<p>144595 rows × 8 columns</p>\n",
       "</div>"
      ],
      "text/plain": [
       "             SEXO MODALIDAD DEL CRÉDITO  MATRICULA  MI PC  SOSTENIMIENTO  \\\n",
       "0        Femenino             MATRICULA          1      0              0   \n",
       "1        Femenino             MATRICULA          1      0              0   \n",
       "2        Femenino             MATRICULA          1      0              0   \n",
       "3        Femenino         SOSTENIMIENTO          0      0              1   \n",
       "4        Femenino             MATRICULA          1      0              0   \n",
       "...           ...                   ...        ...    ...            ...   \n",
       "144590  Masculino             MATRICULA          1      0              0   \n",
       "144591  Masculino             MATRICULA          1      0              0   \n",
       "144592  Masculino             MATRICULA          1      0              0   \n",
       "144593  Masculino             MATRICULA          1      0              0   \n",
       "144594  Masculino             MATRICULA          1      0              0   \n",
       "\n",
       "        Femenino  Intersexual  Masculino  \n",
       "0              1            0          0  \n",
       "1              1            0          0  \n",
       "2              1            0          0  \n",
       "3              1            0          0  \n",
       "4              1            0          0  \n",
       "...          ...          ...        ...  \n",
       "144590         0            0          1  \n",
       "144591         0            0          1  \n",
       "144592         0            0          1  \n",
       "144593         0            0          1  \n",
       "144594         0            0          1  \n",
       "\n",
       "[144595 rows x 8 columns]"
      ]
     },
     "execution_count": 64,
     "metadata": {},
     "output_type": "execute_result"
    }
   ],
   "source": [
    "# este es el resultado parcial\n",
    "df_with_dummies"
   ]
  },
  {
   "cell_type": "code",
   "execution_count": 65,
   "id": "095ee3c0",
   "metadata": {},
   "outputs": [],
   "source": [
    "# eliminar la columna modalidad del credito\n",
    "\n",
    "df_with_dummies.drop(\"MODALIDAD DEL CRÉDITO\",axis=1,inplace=True)\n",
    "df_with_dummies.drop(\"SEXO\",axis=1,inplace=True)"
   ]
  },
  {
   "cell_type": "code",
   "execution_count": 66,
   "id": "473d9a8f",
   "metadata": {},
   "outputs": [
    {
     "data": {
      "text/html": [
       "<div>\n",
       "<style scoped>\n",
       "    .dataframe tbody tr th:only-of-type {\n",
       "        vertical-align: middle;\n",
       "    }\n",
       "\n",
       "    .dataframe tbody tr th {\n",
       "        vertical-align: top;\n",
       "    }\n",
       "\n",
       "    .dataframe thead th {\n",
       "        text-align: right;\n",
       "    }\n",
       "</style>\n",
       "<table border=\"1\" class=\"dataframe\">\n",
       "  <thead>\n",
       "    <tr style=\"text-align: right;\">\n",
       "      <th></th>\n",
       "      <th>MATRICULA</th>\n",
       "      <th>MI PC</th>\n",
       "      <th>SOSTENIMIENTO</th>\n",
       "      <th>Femenino</th>\n",
       "      <th>Intersexual</th>\n",
       "      <th>Masculino</th>\n",
       "    </tr>\n",
       "  </thead>\n",
       "  <tbody>\n",
       "    <tr>\n",
       "      <th>0</th>\n",
       "      <td>1</td>\n",
       "      <td>0</td>\n",
       "      <td>0</td>\n",
       "      <td>1</td>\n",
       "      <td>0</td>\n",
       "      <td>0</td>\n",
       "    </tr>\n",
       "    <tr>\n",
       "      <th>1</th>\n",
       "      <td>1</td>\n",
       "      <td>0</td>\n",
       "      <td>0</td>\n",
       "      <td>1</td>\n",
       "      <td>0</td>\n",
       "      <td>0</td>\n",
       "    </tr>\n",
       "    <tr>\n",
       "      <th>2</th>\n",
       "      <td>1</td>\n",
       "      <td>0</td>\n",
       "      <td>0</td>\n",
       "      <td>1</td>\n",
       "      <td>0</td>\n",
       "      <td>0</td>\n",
       "    </tr>\n",
       "    <tr>\n",
       "      <th>3</th>\n",
       "      <td>0</td>\n",
       "      <td>0</td>\n",
       "      <td>1</td>\n",
       "      <td>1</td>\n",
       "      <td>0</td>\n",
       "      <td>0</td>\n",
       "    </tr>\n",
       "    <tr>\n",
       "      <th>4</th>\n",
       "      <td>1</td>\n",
       "      <td>0</td>\n",
       "      <td>0</td>\n",
       "      <td>1</td>\n",
       "      <td>0</td>\n",
       "      <td>0</td>\n",
       "    </tr>\n",
       "    <tr>\n",
       "      <th>...</th>\n",
       "      <td>...</td>\n",
       "      <td>...</td>\n",
       "      <td>...</td>\n",
       "      <td>...</td>\n",
       "      <td>...</td>\n",
       "      <td>...</td>\n",
       "    </tr>\n",
       "    <tr>\n",
       "      <th>144590</th>\n",
       "      <td>1</td>\n",
       "      <td>0</td>\n",
       "      <td>0</td>\n",
       "      <td>0</td>\n",
       "      <td>0</td>\n",
       "      <td>1</td>\n",
       "    </tr>\n",
       "    <tr>\n",
       "      <th>144591</th>\n",
       "      <td>1</td>\n",
       "      <td>0</td>\n",
       "      <td>0</td>\n",
       "      <td>0</td>\n",
       "      <td>0</td>\n",
       "      <td>1</td>\n",
       "    </tr>\n",
       "    <tr>\n",
       "      <th>144592</th>\n",
       "      <td>1</td>\n",
       "      <td>0</td>\n",
       "      <td>0</td>\n",
       "      <td>0</td>\n",
       "      <td>0</td>\n",
       "      <td>1</td>\n",
       "    </tr>\n",
       "    <tr>\n",
       "      <th>144593</th>\n",
       "      <td>1</td>\n",
       "      <td>0</td>\n",
       "      <td>0</td>\n",
       "      <td>0</td>\n",
       "      <td>0</td>\n",
       "      <td>1</td>\n",
       "    </tr>\n",
       "    <tr>\n",
       "      <th>144594</th>\n",
       "      <td>1</td>\n",
       "      <td>0</td>\n",
       "      <td>0</td>\n",
       "      <td>0</td>\n",
       "      <td>0</td>\n",
       "      <td>1</td>\n",
       "    </tr>\n",
       "  </tbody>\n",
       "</table>\n",
       "<p>144595 rows × 6 columns</p>\n",
       "</div>"
      ],
      "text/plain": [
       "        MATRICULA  MI PC  SOSTENIMIENTO  Femenino  Intersexual  Masculino\n",
       "0               1      0              0         1            0          0\n",
       "1               1      0              0         1            0          0\n",
       "2               1      0              0         1            0          0\n",
       "3               0      0              1         1            0          0\n",
       "4               1      0              0         1            0          0\n",
       "...           ...    ...            ...       ...          ...        ...\n",
       "144590          1      0              0         0            0          1\n",
       "144591          1      0              0         0            0          1\n",
       "144592          1      0              0         0            0          1\n",
       "144593          1      0              0         0            0          1\n",
       "144594          1      0              0         0            0          1\n",
       "\n",
       "[144595 rows x 6 columns]"
      ]
     },
     "execution_count": 66,
     "metadata": {},
     "output_type": "execute_result"
    }
   ],
   "source": [
    "# informacion lista para el uso\n",
    "df_with_dummies"
   ]
  },
  {
   "cell_type": "code",
   "execution_count": 67,
   "id": "a27dadcd",
   "metadata": {},
   "outputs": [
    {
     "data": {
      "text/plain": [
       "Index(['MATRICULA', 'MI PC', 'SOSTENIMIENTO', 'Femenino', 'Intersexual',\n",
       "       'Masculino'],\n",
       "      dtype='object')"
      ]
     },
     "execution_count": 67,
     "metadata": {},
     "output_type": "execute_result"
    }
   ],
   "source": [
    "df_with_dummies.columns"
   ]
  },
  {
   "cell_type": "code",
   "execution_count": 97,
   "id": "8920d8d7",
   "metadata": {},
   "outputs": [],
   "source": [
    "# definimos las variables a explicar\n",
    "\n",
    "x=df_with_dummies[['Masculino','Femenino','Intersexual']]\n",
    "y=df_with_dummies[['MATRICULA']]"
   ]
  },
  {
   "cell_type": "code",
   "execution_count": 98,
   "id": "2fac6d12",
   "metadata": {},
   "outputs": [],
   "source": [
    "# agregamos una constante al modelo\n",
    "\n",
    "c=sm.add_constant(x)"
   ]
  },
  {
   "cell_type": "code",
   "execution_count": 99,
   "id": "d4bba31f",
   "metadata": {},
   "outputs": [],
   "source": [
    "# ajustamos el modelo de regresion lineal\n",
    "\n",
    "model=sm.OLS(y,x).fit()"
   ]
  },
  {
   "cell_type": "code",
   "execution_count": 100,
   "id": "f7e348c4",
   "metadata": {},
   "outputs": [
    {
     "name": "stdout",
     "output_type": "stream",
     "text": [
      "                            OLS Regression Results                            \n",
      "==============================================================================\n",
      "Dep. Variable:              MATRICULA   R-squared:                       0.000\n",
      "Model:                            OLS   Adj. R-squared:                  0.000\n",
      "Method:                 Least Squares   F-statistic:                     27.19\n",
      "Date:                Thu, 17 Aug 2023   Prob (F-statistic):           1.56e-12\n",
      "Time:                        20:03:03   Log-Likelihood:                -37340.\n",
      "No. Observations:              144595   AIC:                         7.469e+04\n",
      "Df Residuals:                  144592   BIC:                         7.471e+04\n",
      "Df Model:                           2                                         \n",
      "Covariance Type:            nonrobust                                         \n",
      "===============================================================================\n",
      "                  coef    std err          t      P>|t|      [0.025      0.975]\n",
      "-------------------------------------------------------------------------------\n",
      "Masculino       0.8834      0.001    749.512      0.000       0.881       0.886\n",
      "Femenino        0.8956      0.001    777.445      0.000       0.893       0.898\n",
      "Intersexual     1.0000      0.222      4.514      0.000       0.566       1.434\n",
      "==============================================================================\n",
      "Omnibus:                    67669.297   Durbin-Watson:                   1.532\n",
      "Prob(Omnibus):                  0.000   Jarque-Bera (JB):           254330.826\n",
      "Skew:                          -2.486   Prob(JB):                         0.00\n",
      "Kurtosis:                       7.183   Cond. No.                         192.\n",
      "==============================================================================\n",
      "\n",
      "Notes:\n",
      "[1] Standard Errors assume that the covariance matrix of the errors is correctly specified.\n"
     ]
    }
   ],
   "source": [
    "print(model.summary())"
   ]
  },
  {
   "cell_type": "markdown",
   "id": "cc6c77bc",
   "metadata": {},
   "source": [
    "A pesar que intentamos realizar un proceso de regresion, esta investigacion nos permite determinar que con los datos consultados no es suficiente poder llegar a medir si existe una relacion directa entre sexos y matricula"
   ]
  },
  {
   "cell_type": "code",
   "execution_count": 101,
   "id": "dc31d1d5",
   "metadata": {},
   "outputs": [
    {
     "data": {
      "image/png": "[encoded data removed]",
      "text/plain": [
       "<Figure size 640x480 with 1 Axes>"
      ]
     },
     "metadata": {},
     "output_type": "display_data"
    }
   ],
   "source": [
    "x_1=df_with_dummies['Masculino']\n",
    "y_1=df_with_dummies['MATRICULA']\n",
    "plt.scatter(x_1,y_1,color='red')\n",
    "plt.show()"
   ]
  },
  {
   "cell_type": "markdown",
   "id": "a59c66fe",
   "metadata": {},
   "source": [
    "vamos a intentarlo con los estratos socieconomicos, la ides es intentar explicar la matricula con relacion a los estratos y el sexo"
   ]
  },
  {
   "cell_type": "code",
   "execution_count": 108,
   "id": "9348c39f",
   "metadata": {},
   "outputs": [
    {
     "data": {
      "text/html": [
       "<div>\n",
       "<style scoped>\n",
       "    .dataframe tbody tr th:only-of-type {\n",
       "        vertical-align: middle;\n",
       "    }\n",
       "\n",
       "    .dataframe tbody tr th {\n",
       "        vertical-align: top;\n",
       "    }\n",
       "\n",
       "    .dataframe thead th {\n",
       "        text-align: right;\n",
       "    }\n",
       "</style>\n",
       "<table border=\"1\" class=\"dataframe\">\n",
       "  <thead>\n",
       "    <tr style=\"text-align: right;\">\n",
       "      <th></th>\n",
       "      <th>SEXO</th>\n",
       "      <th>MODALIDAD DEL CRÉDITO</th>\n",
       "      <th>ESTRATO SOCIOECONÓMICO</th>\n",
       "    </tr>\n",
       "  </thead>\n",
       "  <tbody>\n",
       "    <tr>\n",
       "      <th>0</th>\n",
       "      <td>Femenino</td>\n",
       "      <td>MATRICULA</td>\n",
       "      <td>1</td>\n",
       "    </tr>\n",
       "    <tr>\n",
       "      <th>1</th>\n",
       "      <td>Femenino</td>\n",
       "      <td>MATRICULA</td>\n",
       "      <td>1</td>\n",
       "    </tr>\n",
       "    <tr>\n",
       "      <th>2</th>\n",
       "      <td>Femenino</td>\n",
       "      <td>MATRICULA</td>\n",
       "      <td>1</td>\n",
       "    </tr>\n",
       "    <tr>\n",
       "      <th>3</th>\n",
       "      <td>Femenino</td>\n",
       "      <td>SOSTENIMIENTO</td>\n",
       "      <td>1</td>\n",
       "    </tr>\n",
       "    <tr>\n",
       "      <th>4</th>\n",
       "      <td>Femenino</td>\n",
       "      <td>MATRICULA</td>\n",
       "      <td>1</td>\n",
       "    </tr>\n",
       "    <tr>\n",
       "      <th>...</th>\n",
       "      <td>...</td>\n",
       "      <td>...</td>\n",
       "      <td>...</td>\n",
       "    </tr>\n",
       "    <tr>\n",
       "      <th>144590</th>\n",
       "      <td>Masculino</td>\n",
       "      <td>MATRICULA</td>\n",
       "      <td>6</td>\n",
       "    </tr>\n",
       "    <tr>\n",
       "      <th>144591</th>\n",
       "      <td>Masculino</td>\n",
       "      <td>MATRICULA</td>\n",
       "      <td>6</td>\n",
       "    </tr>\n",
       "    <tr>\n",
       "      <th>144592</th>\n",
       "      <td>Masculino</td>\n",
       "      <td>MATRICULA</td>\n",
       "      <td>6</td>\n",
       "    </tr>\n",
       "    <tr>\n",
       "      <th>144593</th>\n",
       "      <td>Masculino</td>\n",
       "      <td>MATRICULA</td>\n",
       "      <td>6</td>\n",
       "    </tr>\n",
       "    <tr>\n",
       "      <th>144594</th>\n",
       "      <td>Masculino</td>\n",
       "      <td>MATRICULA</td>\n",
       "      <td>6</td>\n",
       "    </tr>\n",
       "  </tbody>\n",
       "</table>\n",
       "<p>144595 rows × 3 columns</p>\n",
       "</div>"
      ],
      "text/plain": [
       "             SEXO MODALIDAD DEL CRÉDITO  ESTRATO SOCIOECONÓMICO\n",
       "0        Femenino             MATRICULA                       1\n",
       "1        Femenino             MATRICULA                       1\n",
       "2        Femenino             MATRICULA                       1\n",
       "3        Femenino         SOSTENIMIENTO                       1\n",
       "4        Femenino             MATRICULA                       1\n",
       "...           ...                   ...                     ...\n",
       "144590  Masculino             MATRICULA                       6\n",
       "144591  Masculino             MATRICULA                       6\n",
       "144592  Masculino             MATRICULA                       6\n",
       "144593  Masculino             MATRICULA                       6\n",
       "144594  Masculino             MATRICULA                       6\n",
       "\n",
       "[144595 rows x 3 columns]"
      ]
     },
     "execution_count": 108,
     "metadata": {},
     "output_type": "execute_result"
    }
   ],
   "source": [
    "# agregando las variables dicotomicas de estrato\n",
    "\n",
    "df_with_estratos=data_relevante[[\"SEXO\",\"MODALIDAD DEL CRÉDITO\",\"ESTRATO SOCIOECONÓMICO\"]]\n",
    "\n",
    "\n",
    "# extrayendo las variables dummys\n",
    "dummy_modalidad=pd.get_dummies(df_with_estratos[\"MODALIDAD DEL CRÉDITO\"])\n",
    "dummy_sexo=pd.get_dummies(df_with_estratos[\"SEXO\"])\n",
    "dummy_estrato=pd.get_dummies(df_with_estratos[\"ESTRATO SOCIOECONÓMICO\"])\n",
    "df_with_estratos"
   ]
  },
  {
   "cell_type": "code",
   "execution_count": 110,
   "id": "85997032",
   "metadata": {},
   "outputs": [
    {
     "data": {
      "text/html": [
       "<div>\n",
       "<style scoped>\n",
       "    .dataframe tbody tr th:only-of-type {\n",
       "        vertical-align: middle;\n",
       "    }\n",
       "\n",
       "    .dataframe tbody tr th {\n",
       "        vertical-align: top;\n",
       "    }\n",
       "\n",
       "    .dataframe thead th {\n",
       "        text-align: right;\n",
       "    }\n",
       "</style>\n",
       "<table border=\"1\" class=\"dataframe\">\n",
       "  <thead>\n",
       "    <tr style=\"text-align: right;\">\n",
       "      <th></th>\n",
       "      <th>SEXO</th>\n",
       "      <th>MODALIDAD DEL CRÉDITO</th>\n",
       "      <th>ESTRATO SOCIOECONÓMICO</th>\n",
       "      <th>MATRICULA</th>\n",
       "      <th>MI PC</th>\n",
       "      <th>SOSTENIMIENTO</th>\n",
       "      <th>Femenino</th>\n",
       "      <th>Intersexual</th>\n",
       "      <th>Masculino</th>\n",
       "      <th>1</th>\n",
       "      <th>2</th>\n",
       "      <th>3</th>\n",
       "      <th>4</th>\n",
       "      <th>5</th>\n",
       "      <th>6</th>\n",
       "    </tr>\n",
       "  </thead>\n",
       "  <tbody>\n",
       "    <tr>\n",
       "      <th>0</th>\n",
       "      <td>Femenino</td>\n",
       "      <td>MATRICULA</td>\n",
       "      <td>1</td>\n",
       "      <td>1</td>\n",
       "      <td>0</td>\n",
       "      <td>0</td>\n",
       "      <td>1</td>\n",
       "      <td>0</td>\n",
       "      <td>0</td>\n",
       "      <td>1</td>\n",
       "      <td>0</td>\n",
       "      <td>0</td>\n",
       "      <td>0</td>\n",
       "      <td>0</td>\n",
       "      <td>0</td>\n",
       "    </tr>\n",
       "    <tr>\n",
       "      <th>1</th>\n",
       "      <td>Femenino</td>\n",
       "      <td>MATRICULA</td>\n",
       "      <td>1</td>\n",
       "      <td>1</td>\n",
       "      <td>0</td>\n",
       "      <td>0</td>\n",
       "      <td>1</td>\n",
       "      <td>0</td>\n",
       "      <td>0</td>\n",
       "      <td>1</td>\n",
       "      <td>0</td>\n",
       "      <td>0</td>\n",
       "      <td>0</td>\n",
       "      <td>0</td>\n",
       "      <td>0</td>\n",
       "    </tr>\n",
       "    <tr>\n",
       "      <th>2</th>\n",
       "      <td>Femenino</td>\n",
       "      <td>MATRICULA</td>\n",
       "      <td>1</td>\n",
       "      <td>1</td>\n",
       "      <td>0</td>\n",
       "      <td>0</td>\n",
       "      <td>1</td>\n",
       "      <td>0</td>\n",
       "      <td>0</td>\n",
       "      <td>1</td>\n",
       "      <td>0</td>\n",
       "      <td>0</td>\n",
       "      <td>0</td>\n",
       "      <td>0</td>\n",
       "      <td>0</td>\n",
       "    </tr>\n",
       "    <tr>\n",
       "      <th>3</th>\n",
       "      <td>Femenino</td>\n",
       "      <td>SOSTENIMIENTO</td>\n",
       "      <td>1</td>\n",
       "      <td>0</td>\n",
       "      <td>0</td>\n",
       "      <td>1</td>\n",
       "      <td>1</td>\n",
       "      <td>0</td>\n",
       "      <td>0</td>\n",
       "      <td>1</td>\n",
       "      <td>0</td>\n",
       "      <td>0</td>\n",
       "      <td>0</td>\n",
       "      <td>0</td>\n",
       "      <td>0</td>\n",
       "    </tr>\n",
       "    <tr>\n",
       "      <th>4</th>\n",
       "      <td>Femenino</td>\n",
       "      <td>MATRICULA</td>\n",
       "      <td>1</td>\n",
       "      <td>1</td>\n",
       "      <td>0</td>\n",
       "      <td>0</td>\n",
       "      <td>1</td>\n",
       "      <td>0</td>\n",
       "      <td>0</td>\n",
       "      <td>1</td>\n",
       "      <td>0</td>\n",
       "      <td>0</td>\n",
       "      <td>0</td>\n",
       "      <td>0</td>\n",
       "      <td>0</td>\n",
       "    </tr>\n",
       "    <tr>\n",
       "      <th>...</th>\n",
       "      <td>...</td>\n",
       "      <td>...</td>\n",
       "      <td>...</td>\n",
       "      <td>...</td>\n",
       "      <td>...</td>\n",
       "      <td>...</td>\n",
       "      <td>...</td>\n",
       "      <td>...</td>\n",
       "      <td>...</td>\n",
       "      <td>...</td>\n",
       "      <td>...</td>\n",
       "      <td>...</td>\n",
       "      <td>...</td>\n",
       "      <td>...</td>\n",
       "      <td>...</td>\n",
       "    </tr>\n",
       "    <tr>\n",
       "      <th>144590</th>\n",
       "      <td>Masculino</td>\n",
       "      <td>MATRICULA</td>\n",
       "      <td>6</td>\n",
       "      <td>1</td>\n",
       "      <td>0</td>\n",
       "      <td>0</td>\n",
       "      <td>0</td>\n",
       "      <td>0</td>\n",
       "      <td>1</td>\n",
       "      <td>0</td>\n",
       "      <td>0</td>\n",
       "      <td>0</td>\n",
       "      <td>0</td>\n",
       "      <td>0</td>\n",
       "      <td>1</td>\n",
       "    </tr>\n",
       "    <tr>\n",
       "      <th>144591</th>\n",
       "      <td>Masculino</td>\n",
       "      <td>MATRICULA</td>\n",
       "      <td>6</td>\n",
       "      <td>1</td>\n",
       "      <td>0</td>\n",
       "      <td>0</td>\n",
       "      <td>0</td>\n",
       "      <td>0</td>\n",
       "      <td>1</td>\n",
       "      <td>0</td>\n",
       "      <td>0</td>\n",
       "      <td>0</td>\n",
       "      <td>0</td>\n",
       "      <td>0</td>\n",
       "      <td>1</td>\n",
       "    </tr>\n",
       "    <tr>\n",
       "      <th>144592</th>\n",
       "      <td>Masculino</td>\n",
       "      <td>MATRICULA</td>\n",
       "      <td>6</td>\n",
       "      <td>1</td>\n",
       "      <td>0</td>\n",
       "      <td>0</td>\n",
       "      <td>0</td>\n",
       "      <td>0</td>\n",
       "      <td>1</td>\n",
       "      <td>0</td>\n",
       "      <td>0</td>\n",
       "      <td>0</td>\n",
       "      <td>0</td>\n",
       "      <td>0</td>\n",
       "      <td>1</td>\n",
       "    </tr>\n",
       "    <tr>\n",
       "      <th>144593</th>\n",
       "      <td>Masculino</td>\n",
       "      <td>MATRICULA</td>\n",
       "      <td>6</td>\n",
       "      <td>1</td>\n",
       "      <td>0</td>\n",
       "      <td>0</td>\n",
       "      <td>0</td>\n",
       "      <td>0</td>\n",
       "      <td>1</td>\n",
       "      <td>0</td>\n",
       "      <td>0</td>\n",
       "      <td>0</td>\n",
       "      <td>0</td>\n",
       "      <td>0</td>\n",
       "      <td>1</td>\n",
       "    </tr>\n",
       "    <tr>\n",
       "      <th>144594</th>\n",
       "      <td>Masculino</td>\n",
       "      <td>MATRICULA</td>\n",
       "      <td>6</td>\n",
       "      <td>1</td>\n",
       "      <td>0</td>\n",
       "      <td>0</td>\n",
       "      <td>0</td>\n",
       "      <td>0</td>\n",
       "      <td>1</td>\n",
       "      <td>0</td>\n",
       "      <td>0</td>\n",
       "      <td>0</td>\n",
       "      <td>0</td>\n",
       "      <td>0</td>\n",
       "      <td>1</td>\n",
       "    </tr>\n",
       "  </tbody>\n",
       "</table>\n",
       "<p>144595 rows × 15 columns</p>\n",
       "</div>"
      ],
      "text/plain": [
       "             SEXO MODALIDAD DEL CRÉDITO  ESTRATO SOCIOECONÓMICO  MATRICULA  \\\n",
       "0        Femenino             MATRICULA                       1          1   \n",
       "1        Femenino             MATRICULA                       1          1   \n",
       "2        Femenino             MATRICULA                       1          1   \n",
       "3        Femenino         SOSTENIMIENTO                       1          0   \n",
       "4        Femenino             MATRICULA                       1          1   \n",
       "...           ...                   ...                     ...        ...   \n",
       "144590  Masculino             MATRICULA                       6          1   \n",
       "144591  Masculino             MATRICULA                       6          1   \n",
       "144592  Masculino             MATRICULA                       6          1   \n",
       "144593  Masculino             MATRICULA                       6          1   \n",
       "144594  Masculino             MATRICULA                       6          1   \n",
       "\n",
       "        MI PC  SOSTENIMIENTO  Femenino  Intersexual  Masculino  1  2  3  4  5  \\\n",
       "0           0              0         1            0          0  1  0  0  0  0   \n",
       "1           0              0         1            0          0  1  0  0  0  0   \n",
       "2           0              0         1            0          0  1  0  0  0  0   \n",
       "3           0              1         1            0          0  1  0  0  0  0   \n",
       "4           0              0         1            0          0  1  0  0  0  0   \n",
       "...       ...            ...       ...          ...        ... .. .. .. .. ..   \n",
       "144590      0              0         0            0          1  0  0  0  0  0   \n",
       "144591      0              0         0            0          1  0  0  0  0  0   \n",
       "144592      0              0         0            0          1  0  0  0  0  0   \n",
       "144593      0              0         0            0          1  0  0  0  0  0   \n",
       "144594      0              0         0            0          1  0  0  0  0  0   \n",
       "\n",
       "        6  \n",
       "0       0  \n",
       "1       0  \n",
       "2       0  \n",
       "3       0  \n",
       "4       0  \n",
       "...    ..  \n",
       "144590  1  \n",
       "144591  1  \n",
       "144592  1  \n",
       "144593  1  \n",
       "144594  1  \n",
       "\n",
       "[144595 rows x 15 columns]"
      ]
     },
     "execution_count": 110,
     "metadata": {},
     "output_type": "execute_result"
    }
   ],
   "source": [
    "# concatenando todo \n",
    "\n",
    "df_with_dummys_estratos=pd.concat([df_with_estratos,dummy_modalidad],axis=1)\n",
    "df_with_dummys_estratos=pd.concat([df_with_dummys_estratos,dummy_sexo],axis=1)\n",
    "df_with_dummys_estratos=pd.concat([df_with_dummys_estratos,dummy_estrato],axis=1)\n",
    "\n",
    "df_with_dummys_estratos"
   ]
  },
  {
   "cell_type": "code",
   "execution_count": null,
   "id": "ebf43d03",
   "metadata": {},
   "outputs": [],
   "source": [
    "# eliminando las columnas que no necesitamos nuevamente"
   ]
  },
  {
   "cell_type": "code",
   "execution_count": 111,
   "id": "3e1bcc5b",
   "metadata": {},
   "outputs": [],
   "source": [
    "df_with_dummys_estratos.drop(\"MODALIDAD DEL CRÉDITO\",axis=1,inplace=True)\n",
    "df_with_dummys_estratos.drop(\"SEXO\",axis=1,inplace=True)\n",
    "df_with_dummys_estratos.drop(\"ESTRATO SOCIOECONÓMICO\",axis=1,inplace=True)"
   ]
  },
  {
   "cell_type": "code",
   "execution_count": 112,
   "id": "5d94e67f",
   "metadata": {},
   "outputs": [
    {
     "data": {
      "text/html": [
       "<div>\n",
       "<style scoped>\n",
       "    .dataframe tbody tr th:only-of-type {\n",
       "        vertical-align: middle;\n",
       "    }\n",
       "\n",
       "    .dataframe tbody tr th {\n",
       "        vertical-align: top;\n",
       "    }\n",
       "\n",
       "    .dataframe thead th {\n",
       "        text-align: right;\n",
       "    }\n",
       "</style>\n",
       "<table border=\"1\" class=\"dataframe\">\n",
       "  <thead>\n",
       "    <tr style=\"text-align: right;\">\n",
       "      <th></th>\n",
       "      <th>MATRICULA</th>\n",
       "      <th>MI PC</th>\n",
       "      <th>SOSTENIMIENTO</th>\n",
       "      <th>Femenino</th>\n",
       "      <th>Intersexual</th>\n",
       "      <th>Masculino</th>\n",
       "      <th>1</th>\n",
       "      <th>2</th>\n",
       "      <th>3</th>\n",
       "      <th>4</th>\n",
       "      <th>5</th>\n",
       "      <th>6</th>\n",
       "    </tr>\n",
       "  </thead>\n",
       "  <tbody>\n",
       "    <tr>\n",
       "      <th>0</th>\n",
       "      <td>1</td>\n",
       "      <td>0</td>\n",
       "      <td>0</td>\n",
       "      <td>1</td>\n",
       "      <td>0</td>\n",
       "      <td>0</td>\n",
       "      <td>1</td>\n",
       "      <td>0</td>\n",
       "      <td>0</td>\n",
       "      <td>0</td>\n",
       "      <td>0</td>\n",
       "      <td>0</td>\n",
       "    </tr>\n",
       "    <tr>\n",
       "      <th>1</th>\n",
       "      <td>1</td>\n",
       "      <td>0</td>\n",
       "      <td>0</td>\n",
       "      <td>1</td>\n",
       "      <td>0</td>\n",
       "      <td>0</td>\n",
       "      <td>1</td>\n",
       "      <td>0</td>\n",
       "      <td>0</td>\n",
       "      <td>0</td>\n",
       "      <td>0</td>\n",
       "      <td>0</td>\n",
       "    </tr>\n",
       "    <tr>\n",
       "      <th>2</th>\n",
       "      <td>1</td>\n",
       "      <td>0</td>\n",
       "      <td>0</td>\n",
       "      <td>1</td>\n",
       "      <td>0</td>\n",
       "      <td>0</td>\n",
       "      <td>1</td>\n",
       "      <td>0</td>\n",
       "      <td>0</td>\n",
       "      <td>0</td>\n",
       "      <td>0</td>\n",
       "      <td>0</td>\n",
       "    </tr>\n",
       "    <tr>\n",
       "      <th>3</th>\n",
       "      <td>0</td>\n",
       "      <td>0</td>\n",
       "      <td>1</td>\n",
       "      <td>1</td>\n",
       "      <td>0</td>\n",
       "      <td>0</td>\n",
       "      <td>1</td>\n",
       "      <td>0</td>\n",
       "      <td>0</td>\n",
       "      <td>0</td>\n",
       "      <td>0</td>\n",
       "      <td>0</td>\n",
       "    </tr>\n",
       "    <tr>\n",
       "      <th>4</th>\n",
       "      <td>1</td>\n",
       "      <td>0</td>\n",
       "      <td>0</td>\n",
       "      <td>1</td>\n",
       "      <td>0</td>\n",
       "      <td>0</td>\n",
       "      <td>1</td>\n",
       "      <td>0</td>\n",
       "      <td>0</td>\n",
       "      <td>0</td>\n",
       "      <td>0</td>\n",
       "      <td>0</td>\n",
       "    </tr>\n",
       "    <tr>\n",
       "      <th>...</th>\n",
       "      <td>...</td>\n",
       "      <td>...</td>\n",
       "      <td>...</td>\n",
       "      <td>...</td>\n",
       "      <td>...</td>\n",
       "      <td>...</td>\n",
       "      <td>...</td>\n",
       "      <td>...</td>\n",
       "      <td>...</td>\n",
       "      <td>...</td>\n",
       "      <td>...</td>\n",
       "      <td>...</td>\n",
       "    </tr>\n",
       "    <tr>\n",
       "      <th>144590</th>\n",
       "      <td>1</td>\n",
       "      <td>0</td>\n",
       "      <td>0</td>\n",
       "      <td>0</td>\n",
       "      <td>0</td>\n",
       "      <td>1</td>\n",
       "      <td>0</td>\n",
       "      <td>0</td>\n",
       "      <td>0</td>\n",
       "      <td>0</td>\n",
       "      <td>0</td>\n",
       "      <td>1</td>\n",
       "    </tr>\n",
       "    <tr>\n",
       "      <th>144591</th>\n",
       "      <td>1</td>\n",
       "      <td>0</td>\n",
       "      <td>0</td>\n",
       "      <td>0</td>\n",
       "      <td>0</td>\n",
       "      <td>1</td>\n",
       "      <td>0</td>\n",
       "      <td>0</td>\n",
       "      <td>0</td>\n",
       "      <td>0</td>\n",
       "      <td>0</td>\n",
       "      <td>1</td>\n",
       "    </tr>\n",
       "    <tr>\n",
       "      <th>144592</th>\n",
       "      <td>1</td>\n",
       "      <td>0</td>\n",
       "      <td>0</td>\n",
       "      <td>0</td>\n",
       "      <td>0</td>\n",
       "      <td>1</td>\n",
       "      <td>0</td>\n",
       "      <td>0</td>\n",
       "      <td>0</td>\n",
       "      <td>0</td>\n",
       "      <td>0</td>\n",
       "      <td>1</td>\n",
       "    </tr>\n",
       "    <tr>\n",
       "      <th>144593</th>\n",
       "      <td>1</td>\n",
       "      <td>0</td>\n",
       "      <td>0</td>\n",
       "      <td>0</td>\n",
       "      <td>0</td>\n",
       "      <td>1</td>\n",
       "      <td>0</td>\n",
       "      <td>0</td>\n",
       "      <td>0</td>\n",
       "      <td>0</td>\n",
       "      <td>0</td>\n",
       "      <td>1</td>\n",
       "    </tr>\n",
       "    <tr>\n",
       "      <th>144594</th>\n",
       "      <td>1</td>\n",
       "      <td>0</td>\n",
       "      <td>0</td>\n",
       "      <td>0</td>\n",
       "      <td>0</td>\n",
       "      <td>1</td>\n",
       "      <td>0</td>\n",
       "      <td>0</td>\n",
       "      <td>0</td>\n",
       "      <td>0</td>\n",
       "      <td>0</td>\n",
       "      <td>1</td>\n",
       "    </tr>\n",
       "  </tbody>\n",
       "</table>\n",
       "<p>144595 rows × 12 columns</p>\n",
       "</div>"
      ],
      "text/plain": [
       "        MATRICULA  MI PC  SOSTENIMIENTO  Femenino  Intersexual  Masculino  1  \\\n",
       "0               1      0              0         1            0          0  1   \n",
       "1               1      0              0         1            0          0  1   \n",
       "2               1      0              0         1            0          0  1   \n",
       "3               0      0              1         1            0          0  1   \n",
       "4               1      0              0         1            0          0  1   \n",
       "...           ...    ...            ...       ...          ...        ... ..   \n",
       "144590          1      0              0         0            0          1  0   \n",
       "144591          1      0              0         0            0          1  0   \n",
       "144592          1      0              0         0            0          1  0   \n",
       "144593          1      0              0         0            0          1  0   \n",
       "144594          1      0              0         0            0          1  0   \n",
       "\n",
       "        2  3  4  5  6  \n",
       "0       0  0  0  0  0  \n",
       "1       0  0  0  0  0  \n",
       "2       0  0  0  0  0  \n",
       "3       0  0  0  0  0  \n",
       "4       0  0  0  0  0  \n",
       "...    .. .. .. .. ..  \n",
       "144590  0  0  0  0  1  \n",
       "144591  0  0  0  0  1  \n",
       "144592  0  0  0  0  1  \n",
       "144593  0  0  0  0  1  \n",
       "144594  0  0  0  0  1  \n",
       "\n",
       "[144595 rows x 12 columns]"
      ]
     },
     "execution_count": 112,
     "metadata": {},
     "output_type": "execute_result"
    }
   ],
   "source": [
    "df_with_dummys_estratos"
   ]
  },
  {
   "cell_type": "code",
   "execution_count": 117,
   "id": "6a21d947",
   "metadata": {},
   "outputs": [
    {
     "data": {
      "text/plain": [
       "Index([    'MATRICULA',         'MI PC', 'SOSTENIMIENTO',      'Femenino',\n",
       "         'Intersexual',     'Masculino',               1,               2,\n",
       "                     3,               4,               5,               6],\n",
       "      dtype='object')"
      ]
     },
     "execution_count": 117,
     "metadata": {},
     "output_type": "execute_result"
    }
   ],
   "source": [
    "df_with_dummys_estratos.columns"
   ]
  },
  {
   "cell_type": "code",
   "execution_count": 129,
   "id": "1561b6f2",
   "metadata": {},
   "outputs": [],
   "source": [
    "# definimos las variables a explicar \n",
    "x=df_with_dummys_estratos[['Masculino',3]]\n",
    "y=df_with_dummys_estratos['MATRICULA']"
   ]
  },
  {
   "cell_type": "code",
   "execution_count": 130,
   "id": "9cb93cc3",
   "metadata": {},
   "outputs": [],
   "source": [
    "# entrenamos el modelo\n",
    "model=sm.OLS(y,x).fit()"
   ]
  },
  {
   "cell_type": "code",
   "execution_count": 131,
   "id": "b81d0e49",
   "metadata": {},
   "outputs": [
    {
     "name": "stdout",
     "output_type": "stream",
     "text": [
      "                                 OLS Regression Results                                \n",
      "=======================================================================================\n",
      "Dep. Variable:              MATRICULA   R-squared (uncentered):                -508.205\n",
      "Model:                            OLS   Adj. R-squared (uncentered):           -508.212\n",
      "Method:                 Least Squares   F-statistic:                         -7.215e+04\n",
      "Date:                Thu, 17 Aug 2023   Prob (F-statistic):                        1.00\n",
      "Time:                        20:40:39   Log-Likelihood:                     -1.4700e+05\n",
      "No. Observations:              144595   AIC:                                  2.940e+05\n",
      "Df Residuals:                  144593   BIC:                                  2.940e+05\n",
      "Df Model:                           2                                                  \n",
      "Covariance Type:            nonrobust                                                  \n",
      "==============================================================================\n",
      "                 coef    std err          t      P>|t|      [0.025      0.975]\n",
      "------------------------------------------------------------------------------\n",
      "Masculino      0.7595      0.003    284.837      0.000       0.754       0.765\n",
      "3              0.5567      0.004    140.584      0.000       0.549       0.564\n",
      "==============================================================================\n",
      "Omnibus:                     6491.100   Durbin-Watson:                   0.339\n",
      "Prob(Omnibus):                  0.000   Jarque-Bera (JB):             7279.880\n",
      "Skew:                          -0.541   Prob(JB):                         0.00\n",
      "Kurtosis:                       2.805   Cond. No.                         1.70\n",
      "==============================================================================\n",
      "\n",
      "Notes:\n",
      "[1] R² is computed without centering (uncentered) since the model does not contain a constant.\n",
      "[2] Standard Errors assume that the covariance matrix of the errors is correctly specified.\n"
     ]
    }
   ],
   "source": [
    "print(model.summary())"
   ]
  },
  {
   "cell_type": "markdown",
   "id": "bc9442e2",
   "metadata": {},
   "source": [
    "como tenemos que realizar varias regresiones por estrato vamos a contruir una funcion que realice las multiples regresiones lineales sin necesidad de ser manuales"
   ]
  },
  {
   "cell_type": "code",
   "execution_count": 143,
   "id": "9121ed32",
   "metadata": {},
   "outputs": [],
   "source": [
    "# construimos la funcion\n",
    "def regresiones_estratos(data,categoria_sexo,variable_explicada):\n",
    "    for estrato in range(1,7):\n",
    "        x=data[[\"{}\".format(categoria_sexo),estrato]]\n",
    "        y=data[\"{}\".format(variable_explicada)]\n",
    "        \n",
    "        model=sm.OLS(y,x).fit()\n",
    "        \n",
    "        print(model.summary())"
   ]
  },
  {
   "cell_type": "code",
   "execution_count": 145,
   "id": "0837ef3a",
   "metadata": {},
   "outputs": [
    {
     "name": "stdout",
     "output_type": "stream",
     "text": [
      "                                 OLS Regression Results                                \n",
      "=======================================================================================\n",
      "Dep. Variable:              MATRICULA   R-squared (uncentered):                -486.324\n",
      "Model:                            OLS   Adj. R-squared (uncentered):           -486.330\n",
      "Method:                 Least Squares   F-statistic:                         -7.215e+04\n",
      "Date:                Thu, 17 Aug 2023   Prob (F-statistic):                        1.00\n",
      "Time:                        20:56:47   Log-Likelihood:                     -1.4382e+05\n",
      "No. Observations:              144595   AIC:                                  2.876e+05\n",
      "Df Residuals:                  144593   BIC:                                  2.877e+05\n",
      "Df Model:                           2                                                  \n",
      "Covariance Type:            nonrobust                                                  \n",
      "==============================================================================\n",
      "                 coef    std err          t      P>|t|      [0.025      0.975]\n",
      "------------------------------------------------------------------------------\n",
      "Femenino       0.7581      0.003    289.112      0.000       0.753       0.763\n",
      "1              0.4489      0.003    131.774      0.000       0.442       0.456\n",
      "==============================================================================\n",
      "Omnibus:                     7420.873   Durbin-Watson:                   0.354\n",
      "Prob(Omnibus):                  0.000   Jarque-Bera (JB):             8621.597\n",
      "Skew:                          -0.596   Prob(JB):                         0.00\n",
      "Kurtosis:                       3.102   Cond. No.                         1.65\n",
      "==============================================================================\n",
      "\n",
      "Notes:\n",
      "[1] R² is computed without centering (uncentered) since the model does not contain a constant.\n",
      "[2] Standard Errors assume that the covariance matrix of the errors is correctly specified.\n",
      "                                 OLS Regression Results                                \n",
      "=======================================================================================\n",
      "Dep. Variable:              MATRICULA   R-squared (uncentered):                -459.186\n",
      "Model:                            OLS   Adj. R-squared (uncentered):           -459.192\n",
      "Method:                 Least Squares   F-statistic:                         -7.214e+04\n",
      "Date:                Thu, 17 Aug 2023   Prob (F-statistic):                        1.00\n",
      "Time:                        20:56:47   Log-Likelihood:                     -1.3968e+05\n",
      "No. Observations:              144595   AIC:                                  2.794e+05\n",
      "Df Residuals:                  144593   BIC:                                  2.794e+05\n",
      "Df Model:                           2                                                  \n",
      "Covariance Type:            nonrobust                                                  \n",
      "==============================================================================\n",
      "                 coef    std err          t      P>|t|      [0.025      0.975]\n",
      "------------------------------------------------------------------------------\n",
      "Femenino       0.7255      0.003    283.698      0.000       0.720       0.731\n",
      "2              0.5237      0.003    164.058      0.000       0.517       0.530\n",
      "==============================================================================\n",
      "Omnibus:                     5740.016   Durbin-Watson:                   0.375\n",
      "Prob(Omnibus):                  0.000   Jarque-Bera (JB):             6455.061\n",
      "Skew:                          -0.517   Prob(JB):                         0.00\n",
      "Kurtosis:                       2.974   Cond. No.                         1.63\n",
      "==============================================================================\n",
      "\n",
      "Notes:\n",
      "[1] R² is computed without centering (uncentered) since the model does not contain a constant.\n",
      "[2] Standard Errors assume that the covariance matrix of the errors is correctly specified.\n",
      "                                 OLS Regression Results                                \n",
      "=======================================================================================\n",
      "Dep. Variable:              MATRICULA   R-squared (uncentered):                -481.004\n",
      "Model:                            OLS   Adj. R-squared (uncentered):           -481.011\n",
      "Method:                 Least Squares   F-statistic:                         -7.215e+04\n",
      "Date:                Thu, 17 Aug 2023   Prob (F-statistic):                        1.00\n",
      "Time:                        20:56:47   Log-Likelihood:                     -1.4303e+05\n",
      "No. Observations:              144595   AIC:                                  2.861e+05\n",
      "Df Residuals:                  144593   BIC:                                  2.861e+05\n",
      "Df Model:                           2                                                  \n",
      "Covariance Type:            nonrobust                                                  \n",
      "==============================================================================\n",
      "                 coef    std err          t      P>|t|      [0.025      0.975]\n",
      "------------------------------------------------------------------------------\n",
      "Femenino       0.7779      0.003    306.382      0.000       0.773       0.783\n",
      "3              0.5340      0.004    138.389      0.000       0.526       0.542\n",
      "==============================================================================\n",
      "Omnibus:                     4943.295   Durbin-Watson:                   0.358\n",
      "Prob(Omnibus):                  0.000   Jarque-Bera (JB):             5235.513\n",
      "Skew:                          -0.448   Prob(JB):                         0.00\n",
      "Kurtosis:                       2.744   Cond. No.                         1.73\n",
      "==============================================================================\n",
      "\n",
      "Notes:\n",
      "[1] R² is computed without centering (uncentered) since the model does not contain a constant.\n",
      "[2] Standard Errors assume that the covariance matrix of the errors is correctly specified.\n",
      "                                 OLS Regression Results                                \n",
      "=======================================================================================\n",
      "Dep. Variable:              MATRICULA   R-squared (uncentered):                -519.894\n",
      "Model:                            OLS   Adj. R-squared (uncentered):           -519.901\n",
      "Method:                 Least Squares   F-statistic:                         -7.216e+04\n",
      "Date:                Thu, 17 Aug 2023   Prob (F-statistic):                        1.00\n",
      "Time:                        20:56:47   Log-Likelihood:                     -1.4864e+05\n",
      "No. Observations:              144595   AIC:                                  2.973e+05\n",
      "Df Residuals:                  144593   BIC:                                  2.973e+05\n",
      "Df Model:                           2                                                  \n",
      "Covariance Type:            nonrobust                                                  \n",
      "==============================================================================\n",
      "                 coef    std err          t      P>|t|      [0.025      0.975]\n",
      "------------------------------------------------------------------------------\n",
      "Femenino       0.8494      0.003    333.338      0.000       0.844       0.854\n",
      "4              0.5009      0.006     83.226      0.000       0.489       0.513\n",
      "==============================================================================\n",
      "Omnibus:                     5364.850   Durbin-Watson:                   0.332\n",
      "Prob(Omnibus):                  0.000   Jarque-Bera (JB):             5426.982\n",
      "Skew:                          -0.442   Prob(JB):                         0.00\n",
      "Kurtosis:                       2.657   Cond. No.                         2.44\n",
      "==============================================================================\n",
      "\n",
      "Notes:\n",
      "[1] R² is computed without centering (uncentered) since the model does not contain a constant.\n",
      "[2] Standard Errors assume that the covariance matrix of the errors is correctly specified.\n",
      "                                 OLS Regression Results                                \n",
      "=======================================================================================\n",
      "Dep. Variable:              MATRICULA   R-squared (uncentered):                -535.747\n",
      "Model:                            OLS   Adj. R-squared (uncentered):           -535.755\n",
      "Method:                 Least Squares   F-statistic:                         -7.216e+04\n",
      "Date:                Thu, 17 Aug 2023   Prob (F-statistic):                        1.00\n",
      "Time:                        20:56:47   Log-Likelihood:                     -1.5081e+05\n",
      "No. Observations:              144595   AIC:                                  3.016e+05\n",
      "Df Residuals:                  144593   BIC:                                  3.016e+05\n",
      "Df Model:                           2                                                  \n",
      "Covariance Type:            nonrobust                                                  \n",
      "==============================================================================\n",
      "                 coef    std err          t      P>|t|      [0.025      0.975]\n",
      "------------------------------------------------------------------------------\n",
      "Femenino       0.8779      0.003    344.323      0.000       0.873       0.883\n",
      "5              0.4666      0.009     49.510      0.000       0.448       0.485\n",
      "==============================================================================\n",
      "Omnibus:                     5684.031   Durbin-Watson:                   0.322\n",
      "Prob(Omnibus):                  0.000   Jarque-Bera (JB):             5479.759\n",
      "Skew:                          -0.433   Prob(JB):                         0.00\n",
      "Kurtosis:                       2.600   Cond. No.                         3.74\n",
      "==============================================================================\n",
      "\n",
      "Notes:\n",
      "[1] R² is computed without centering (uncentered) since the model does not contain a constant.\n",
      "[2] Standard Errors assume that the covariance matrix of the errors is correctly specified.\n",
      "                                 OLS Regression Results                                \n",
      "=======================================================================================\n",
      "Dep. Variable:              MATRICULA   R-squared (uncentered):                -541.240\n",
      "Model:                            OLS   Adj. R-squared (uncentered):           -541.248\n",
      "Method:                 Least Squares   F-statistic:                         -7.216e+04\n",
      "Date:                Thu, 17 Aug 2023   Prob (F-statistic):                        1.00\n",
      "Time:                        20:56:47   Log-Likelihood:                     -1.5154e+05\n",
      "No. Observations:              144595   AIC:                                  3.031e+05\n",
      "Df Residuals:                  144593   BIC:                                  3.031e+05\n",
      "Df Model:                           2                                                  \n",
      "Covariance Type:            nonrobust                                                  \n",
      "==============================================================================\n",
      "                 coef    std err          t      P>|t|      [0.025      0.975]\n",
      "------------------------------------------------------------------------------\n",
      "Femenino       0.8876      0.003    348.026      0.000       0.883       0.893\n",
      "6              0.4208      0.014     31.011      0.000       0.394       0.447\n",
      "==============================================================================\n",
      "Omnibus:                     5874.082   Durbin-Watson:                   0.319\n",
      "Prob(Omnibus):                  0.000   Jarque-Bera (JB):             5500.817\n",
      "Skew:                          -0.427   Prob(JB):                         0.00\n",
      "Kurtosis:                       2.572   Cond. No.                         5.35\n",
      "==============================================================================\n",
      "\n",
      "Notes:\n",
      "[1] R² is computed without centering (uncentered) since the model does not contain a constant.\n",
      "[2] Standard Errors assume that the covariance matrix of the errors is correctly specified.\n"
     ]
    }
   ],
   "source": [
    "# ejecutamos la funcion\n",
    "regresiones_estratos(df_with_dummys_estratos,'Femenino','MATRICULA')"
   ]
  },
  {
   "cell_type": "markdown",
   "id": "b2e87150",
   "metadata": {},
   "source": [
    "A pesar de nuestro intento, el modelo no es lo suficientemente fuerte como para explicar la situacion, puede ser que los datos que estamos usando no sean los que necesitamos y tal ves esta sea la causa ya que como lo vimos antes en el grafico calculado, los datos no tenian un comportamiento ideal.\n",
    "\n",
    "sera necesario revisar los datos para retomar el proceso, pero por el momento se concluye que no es posible determinar si existe relacion causal debido a los datos que tenemos"
   ]
  },
  {
   "cell_type": "markdown",
   "id": "07c8120f",
   "metadata": {},
   "source": [
    "## CONCLUSIONES:\n",
    "1. los estratos 1 y 2 son los mas relacionados con creditos icetex\n",
    "2. los departamentos con mas beneficiaros son valle del cauca, antioquia, santander y cundinamarca, sin duda este punto es interesante porque si suponemos que bogota es la ciudad con mas accesos a este tipo de servicios, lo que nos indica este estudio es que en lugares mas desarrollados economicamente , la presencia de mas demanda de creditos educativos por esta entidad se acrecenta, no es de extrañar que estos departamentos sean los mas importantes a nivel economico.\n",
    "3. En su mayoria, los principales niveles educativos que financia el icetex son particularmente los niveles de pregrado, siguiendole maestria y curiosamente especializaciones y niveles de tecnico y tecnologo. Esto nos infiere un comportamiento a abordar las necesidades basicas del mercado laboral con conocimientos basicos o conocimientos aplicados muy especificos. Sin embargo los doctorados o niveles de formacion mas cientificos casi no aparecen.\n",
    "4.con un 89% el icetex se enfoca en modalidades de credito del tipo matricula, los otros tipos son muy bajos lo que nos indica que, apesar de las dificultades en el acceso a la educacion en colombia, al menos, el icetex sirve como opcion para poder ingresar a la educacion superior o al menos es una opcion en la mesa de decisiones y los estudiantes pueden financiar sus estudios en una parte.\n",
    "5. estadisticamente no podemos inferir si existe una relacion causal entre sexos y matriculas debido a la estructura de datos que tenemos, sin embargo, el conteo de creditos para mujeres es ligeramente superior en comparacion con los hombres, las demas modalidades de credito presentan variaciones pero estas son bajas, se necesitaria un estudio mas detallado para afirmar esta conclusion final"
   ]
  }
 ],
 "metadata": {
  "kernelspec": {
   "display_name": "Python 3 (ipykernel)",
   "language": "python",
   "name": "python3"
  },
  "language_info": {
   "codemirror_mode": {
    "name": "ipython",
    "version": 3
   },
   "file_extension": ".py",
   "mimetype": "text/x-python",
   "name": "python",
   "nbconvert_exporter": "python",
   "pygments_lexer": "ipython3",
   "version": "3.9.13"
  }
 },
 "nbformat": 4,
 "nbformat_minor": 5
}
